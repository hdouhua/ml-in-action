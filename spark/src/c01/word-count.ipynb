{
 "cells": [
  {
   "cell_type": "code",
   "execution_count": 1,
   "metadata": {},
   "outputs": [
    {
     "data": {
      "text/plain": [
       "'3.3.1'"
      ]
     },
     "execution_count": 1,
     "metadata": {},
     "output_type": "execute_result"
    }
   ],
   "source": [
    "import pyspark\n",
    "from pyspark import SparkContext\n",
    "pyspark.__version__"
   ]
  },
  {
   "cell_type": "code",
   "execution_count": 2,
   "metadata": {},
   "outputs": [
    {
     "name": "stderr",
     "output_type": "stream",
     "text": [
      "Setting default log level to \"WARN\".\n",
      "To adjust logging level use sc.setLogLevel(newLevel). For SparkR, use setLogLevel(newLevel).\n"
     ]
    },
    {
     "name": "stdout",
     "output_type": "stream",
     "text": [
      "22/11/06 01:15:41 WARN NativeCodeLoader: Unable to load native-hadoop library for your platform... using builtin-java classes where applicable\n"
     ]
    }
   ],
   "source": [
    "sparkContext = SparkContext()"
   ]
  },
  {
   "cell_type": "code",
   "execution_count": 3,
   "metadata": {},
   "outputs": [],
   "source": [
    "textFile = sparkContext.textFile(\"../../res/wikiOfSpark.txt\")"
   ]
  },
  {
   "cell_type": "markdown",
   "metadata": {},
   "source": [
    "## 一步到位"
   ]
  },
  {
   "cell_type": "code",
   "execution_count": 4,
   "metadata": {},
   "outputs": [
    {
     "name": "stderr",
     "output_type": "stream",
     "text": [
      "                                                                                \r"
     ]
    },
    {
     "name": "stdout",
     "output_type": "stream",
     "text": [
      "[('the', 67), ('Spark', 63), ('a', 54), ('and', 51), ('of', 50), ('in', 35), ('Apache', 34), ('to', 33), ('is', 25), ('for', 23)]\n"
     ]
    }
   ],
   "source": [
    "wordCount = (\n",
    "    textFile.flatMap(lambda line: line.split(\" \"))\n",
    "    .filter(lambda word: word != \"\")\n",
    "    .map(lambda word: (word, 1))\n",
    "    .reduceByKey(lambda prev, next: prev + next)\n",
    "    .sortBy(lambda curr: curr[1], False)\n",
    ")\n",
    "\n",
    "print(wordCount.take(10))\n"
   ]
  },
  {
   "cell_type": "markdown",
   "metadata": {},
   "source": [
    "## 一步步计算"
   ]
  },
  {
   "cell_type": "code",
   "execution_count": 5,
   "metadata": {},
   "outputs": [],
   "source": [
    "# 逐行分词\n",
    "wordRDD= textFile.flatMap(lambda line: line.split(\" \"))"
   ]
  },
  {
   "cell_type": "code",
   "execution_count": 6,
   "metadata": {},
   "outputs": [],
   "source": [
    "# 过滤空字符串\n",
    "cleanWordRDD = wordRDD.filter(lambda word : word != \"\")"
   ]
  },
  {
   "cell_type": "code",
   "execution_count": 7,
   "metadata": {},
   "outputs": [],
   "source": [
    "# 转换为（Key，Value）\n",
    "kvRDD = cleanWordRDD.map(lambda word: (word, 1))"
   ]
  },
  {
   "cell_type": "code",
   "execution_count": 8,
   "metadata": {},
   "outputs": [],
   "source": [
    "# 分组计数\n",
    "wordCounts = kvRDD.reduceByKey(lambda prev, next : prev + next)"
   ]
  },
  {
   "cell_type": "code",
   "execution_count": 9,
   "metadata": {},
   "outputs": [],
   "source": [
    "# 按照词频排序\n",
    "sortedWordCounts = wordCounts.sortBy(lambda curr: curr[1], ascending=False)"
   ]
  },
  {
   "cell_type": "code",
   "execution_count": 10,
   "metadata": {},
   "outputs": [
    {
     "data": {
      "text/plain": [
       "[('the', 67),\n",
       " ('Spark', 63),\n",
       " ('a', 54),\n",
       " ('and', 51),\n",
       " ('of', 50),\n",
       " ('in', 35),\n",
       " ('Apache', 34),\n",
       " ('to', 33),\n",
       " ('is', 25),\n",
       " ('for', 23)]"
      ]
     },
     "execution_count": 10,
     "metadata": {},
     "output_type": "execute_result"
    }
   ],
   "source": [
    "# 打印词频最高的10个词\n",
    "sortedWordCounts.take(10)"
   ]
  }
 ],
 "metadata": {
  "kernelspec": {
   "display_name": "Python 3.10.6 ('spark')",
   "language": "python",
   "name": "python3"
  },
  "language_info": {
   "codemirror_mode": {
    "name": "ipython",
    "version": 3
   },
   "file_extension": ".py",
   "mimetype": "text/x-python",
   "name": "python",
   "nbconvert_exporter": "python",
   "pygments_lexer": "ipython3",
   "version": "3.10.6"
  },
  "orig_nbformat": 4,
  "vscode": {
   "interpreter": {
    "hash": "d5ca8aa162d6e2ef15460f43a51f4411e8aec4bf04fea983283c66e0530195d3"
   }
  }
 },
 "nbformat": 4,
 "nbformat_minor": 2
}
