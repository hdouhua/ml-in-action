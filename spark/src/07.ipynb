{
 "cells": [
  {
   "cell_type": "code",
   "execution_count": 1,
   "metadata": {},
   "outputs": [],
   "source": [
    "from pyspark.sql import SparkSession\n",
    "from pyspark import SparkContext"
   ]
  },
  {
   "cell_type": "code",
   "execution_count": 2,
   "metadata": {},
   "outputs": [
    {
     "name": "stderr",
     "output_type": "stream",
     "text": [
      "22/12/14 18:25:58 WARN NativeCodeLoader: Unable to load native-hadoop library for your platform... using builtin-java classes where applicable\n"
     ]
    }
   ],
   "source": [
    "spark = SparkSession \\\n",
    "        .builder \\\n",
    "        .appName(\"LocalApp\") \\\n",
    "        .getOrCreate()"
   ]
  },
  {
   "cell_type": "code",
   "execution_count": 3,
   "metadata": {},
   "outputs": [],
   "source": [
    "lineRDD = spark.sparkContext.textFile(\"../ds/wikiOfSpark.txt\")\n",
    "cleanWordRDD = lineRDD.flatMap(lambda line: line.split(\" \")).filter(lambda word: word != \"\")"
   ]
  },
  {
   "attachments": {},
   "cell_type": "markdown",
   "metadata": {},
   "source": [
    "groupByKey"
   ]
  },
  {
   "cell_type": "code",
   "execution_count": 4,
   "metadata": {},
   "outputs": [
    {
     "name": "stderr",
     "output_type": "stream",
     "text": [
      "                                                                                \r"
     ]
    },
    {
     "data": {
      "text/plain": [
       "[('Apache', <pyspark.resultiterable.ResultIterable at 0x7fb6695b0f10>),\n",
       " ('Spark', <pyspark.resultiterable.ResultIterable at 0x7fb6695b0fd0>),\n",
       " ('Wikipedia,', <pyspark.resultiterable.ResultIterable at 0x7fb6695b0a30>)]"
      ]
     },
     "execution_count": 4,
     "metadata": {},
     "output_type": "execute_result"
    }
   ],
   "source": [
    "kvRDD = cleanWordRDD.map(lambda w:(w,w))\n",
    "words = kvRDD.groupByKey()\n",
    "\n",
    "words.take(3)"
   ]
  },
  {
   "attachments": {},
   "cell_type": "markdown",
   "metadata": {},
   "source": [
    "reduceByKey"
   ]
  },
  {
   "cell_type": "code",
   "execution_count": 5,
   "metadata": {},
   "outputs": [
    {
     "data": {
      "text/plain": [
       "[('Apache', 34), ('Spark', 63), ('Wikipedia,', 1)]"
      ]
     },
     "execution_count": 5,
     "metadata": {},
     "output_type": "execute_result"
    }
   ],
   "source": [
    "# 把RDD元素转换为（Key，Value）的形式\n",
    "kvRDD = cleanWordRDD.map(lambda word: (word, 1))\n",
    " \n",
    "# 按照单词做分组计数\n",
    "wordCounts = kvRDD.reduceByKey(lambda x, y: x + y)\n",
    "\n",
    "wordCounts.take(3)"
   ]
  },
  {
   "cell_type": "code",
   "execution_count": 6,
   "metadata": {},
   "outputs": [
    {
     "data": {
      "text/plain": [
       "[('Apache', 994), ('Spark', 1000), ('Wikipedia,', 821)]"
      ]
     },
     "execution_count": 6,
     "metadata": {},
     "output_type": "execute_result"
    }
   ],
   "source": [
    "import random\n",
    "import math\n",
    "\n",
    "\n",
    "# 显示定义提取最大值的聚合函数f\n",
    "def f(x, y):\n",
    "    return max(x, y)\n",
    "\n",
    "\n",
    "kvRDD = cleanWordRDD.map(lambda word: (word, random.randint(1, 1000)))\n",
    "\n",
    "# 按照单词提取最大值\n",
    "wordCounts = kvRDD.reduceByKey(f)\n",
    "\n",
    "wordCounts.take(3)"
   ]
  },
  {
   "attachments": {},
   "cell_type": "markdown",
   "metadata": {},
   "source": [
    "aggregateByKey"
   ]
  },
  {
   "cell_type": "code",
   "execution_count": 7,
   "metadata": {},
   "outputs": [
    {
     "name": "stdout",
     "output_type": "stream",
     "text": [
      "[('Apache', 23), ('Spark', 39), ('Wikipedia,', 1)]\n"
     ]
    },
    {
     "data": {
      "text/plain": [
       "[('Apache', 34), ('Spark', 63), ('Wikipedia,', 1)]"
      ]
     },
     "execution_count": 7,
     "metadata": {},
     "output_type": "execute_result"
    }
   ],
   "source": [
    "# 显示定义 Map 阶段聚合函数 f1\n",
    "def f1(x, y):\n",
    "    return x + y\n",
    "\n",
    "\n",
    "# 显示定义 Reduce 阶段聚合函数 f2\n",
    "def f2(x, y):\n",
    "    return max(x, y)\n",
    "\n",
    "\n",
    "kvRDD = cleanWordRDD.map(lambda w: (w, 1))\n",
    "\n",
    "# 调用 aggregateByKey，实现先加和、再求最大值\n",
    "wordCounts = kvRDD.aggregateByKey(0, seqFunc=f1, combFunc=f2)\n",
    "print(wordCounts.take(3))\n",
    "\n",
    "# 下面用 aggregateByKey 实现 reduceByKey 的功能\n",
    "wordCounts = kvRDD.aggregateByKey(0, seqFunc=f1, combFunc=f1)\n",
    "\n",
    "wordCounts.take(3)"
   ]
  },
  {
   "attachments": {},
   "cell_type": "markdown",
   "metadata": {},
   "source": [
    "sortByKey\n"
   ]
  },
  {
   "cell_type": "code",
   "execution_count": 8,
   "metadata": {},
   "outputs": [
    {
     "data": {
      "text/plain": [
       "[('\"))', 1), ('\"12\".', 1), ('\"4', 1)]"
      ]
     },
     "execution_count": 8,
     "metadata": {},
     "output_type": "execute_result"
    }
   ],
   "source": [
    "sortedRDD = wordCounts.sortByKey()\n",
    "# descending\n",
    "# sortedRDD = wordCounts.sortByKey(False)\n",
    "\n",
    "sortedRDD.take(3)"
   ]
  },
  {
   "cell_type": "code",
   "execution_count": 9,
   "metadata": {},
   "outputs": [
    {
     "data": {
      "text/plain": [
       "[('the', 67), ('Spark', 63), ('a', 54)]"
      ]
     },
     "execution_count": 9,
     "metadata": {},
     "output_type": "execute_result"
    }
   ],
   "source": [
    "# sortBy value\n",
    "\n",
    "sortedRDD = wordCounts.sortBy(lambda x: x[1], False)\n",
    "\n",
    "sortedRDD.take(3)"
   ]
  }
 ],
 "metadata": {
  "kernelspec": {
   "display_name": "spark",
   "language": "python",
   "name": "python3"
  },
  "language_info": {
   "codemirror_mode": {
    "name": "ipython",
    "version": 3
   },
   "file_extension": ".py",
   "mimetype": "text/x-python",
   "name": "python",
   "nbconvert_exporter": "python",
   "pygments_lexer": "ipython3",
   "version": "3.9.12"
  },
  "orig_nbformat": 4,
  "vscode": {
   "interpreter": {
    "hash": "d5ca8aa162d6e2ef15460f43a51f4411e8aec4bf04fea983283c66e0530195d3"
   }
  }
 },
 "nbformat": 4,
 "nbformat_minor": 2
}
