{
 "cells": [
  {
   "cell_type": "code",
   "execution_count": 1,
   "metadata": {},
   "outputs": [],
   "source": [
    "from pyspark.sql import SparkSession\n",
    "from pyspark import SparkContext"
   ]
  },
  {
   "cell_type": "markdown",
   "metadata": {},
   "source": [
    "构建 spark session"
   ]
  },
  {
   "cell_type": "code",
   "execution_count": 2,
   "metadata": {},
   "outputs": [
    {
     "name": "stderr",
     "output_type": "stream",
     "text": [
      "22/11/23 18:55:43 WARN NativeCodeLoader: Unable to load native-hadoop library for your platform... using builtin-java classes where applicable\n"
     ]
    }
   ],
   "source": [
    "# cluster mode\n",
    "\n",
    "spark = SparkSession \\\n",
    "        .builder.master('spark://vm1:7077') \\\n",
    "        .appName(\"RemoteApp\") \\\n",
    "        .getOrCreate()"
   ]
  },
  {
   "cell_type": "code",
   "execution_count": 3,
   "metadata": {},
   "outputs": [],
   "source": [
    "# # local mode\n",
    "\n",
    "# spark = SparkSession \\\n",
    "#         .builder \\\n",
    "#         .appName(\"LocalApp\") \\\n",
    "#         .getOrCreate()"
   ]
  },
  {
   "cell_type": "markdown",
   "metadata": {},
   "source": [
    "获取上下文配置"
   ]
  },
  {
   "cell_type": "code",
   "execution_count": 4,
   "metadata": {},
   "outputs": [],
   "source": [
    "# spark.sparkContext.getConf().getAll()"
   ]
  },
  {
   "cell_type": "code",
   "execution_count": 5,
   "metadata": {},
   "outputs": [],
   "source": [
    "# 数据准备\n",
    "\n",
    "lineRDD = spark.sparkContext.textFile(\"../../res/wikiOfSpark.txt\")\n",
    "cleanWordRDD = lineRDD.flatMap(lambda line: line.split(\" \")).filter(lambda word: word != \"\")\n"
   ]
  },
  {
   "cell_type": "markdown",
   "metadata": {},
   "source": []
  },
  {
   "cell_type": "code",
   "execution_count": 6,
   "metadata": {},
   "outputs": [
    {
     "name": "stderr",
     "output_type": "stream",
     "text": [
      "                                                                                \r"
     ]
    },
    {
     "data": {
      "text/plain": [
       "[('the', 67), ('Spark', 63), ('a', 54), ('and', 51), ('of', 50)]"
      ]
     },
     "execution_count": 6,
     "metadata": {},
     "output_type": "execute_result"
    }
   ],
   "source": [
    "def f(word):\n",
    "    return (word, 1)\n",
    "\n",
    "\n",
    "kvRDD = cleanWordRDD.map(f)\n",
    "\n",
    "# 分组计数\n",
    "wordCounts = kvRDD.reduceByKey(lambda prev, curr: prev + curr)\n",
    "\n",
    "# 按照词频排序\n",
    "sortedWordCounts = wordCounts.sortBy(lambda curr: curr[1], ascending=False)\n",
    "\n",
    "sortedWordCounts.take(5)\n"
   ]
  }
 ],
 "metadata": {
  "kernelspec": {
   "display_name": "Python 3.9.12 ('spark')",
   "language": "python",
   "name": "python3"
  },
  "language_info": {
   "codemirror_mode": {
    "name": "ipython",
    "version": 3
   },
   "file_extension": ".py",
   "mimetype": "text/x-python",
   "name": "python",
   "nbconvert_exporter": "python",
   "pygments_lexer": "ipython3",
   "version": "3.9.12"
  },
  "orig_nbformat": 4,
  "vscode": {
   "interpreter": {
    "hash": "d5ca8aa162d6e2ef15460f43a51f4411e8aec4bf04fea983283c66e0530195d3"
   }
  }
 },
 "nbformat": 4,
 "nbformat_minor": 2
}
