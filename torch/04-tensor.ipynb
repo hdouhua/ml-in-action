{
 "cells": [
  {
   "cell_type": "markdown",
   "metadata": {},
   "source": [
    "# Tensor\n",
    "\n",
    "Tensor 是深度学习框架中极为基础的概念，也是 PyTroch、TensorFlow 中最重要的知识点之一，它是一种数据的存储和处理结构。\n",
    "\n",
    "几种数据类型：\n",
    "\n",
    "- 标量，也称 Scalar，是一个只有大小，没有方向的量，比如 1.8、e、10 等。\n",
    "- 向量，也称 Vector，是一个有大小也有方向的量，比如 (1,2,3,4) 等。\n",
    "- 矩阵，也称 Matrix，是多个向量合并在一起得到的量，比如 [(1,2,3),(4,5,6)] 等。\n",
    "- 张量，也称 Tensor\n",
    "\n",
    "从标量、向量和矩阵的关系来看，它们就是不同“**维度**”的 Tensor ？\n",
    "\n",
    "更准确地使用 Rank（秩）来表示这种“维度”，比如标量，就是 Rank 为 0 阶的 Tensor；向量就是 Rank 为 1 阶的 Tensor；矩阵就是 Rank 为 2 阶的 Tensor；还有 Rank 大于 2 的 Tensor。"
   ]
  },
  {
   "cell_type": "code",
   "execution_count": 1,
   "metadata": {},
   "outputs": [],
   "source": [
    "import torch\n",
    "\n",
    "import numpy as np"
   ]
  },
  {
   "cell_type": "markdown",
   "metadata": {},
   "source": [
    "## 数据类型\n",
    "\n",
    "一些常用类型\n",
    "\n",
    "<img src=\"https://static001.geekbang.org/resource/image/e6/08/e6af6a3b2172ee08db8c564146ae2108.jpg?wh=1680x933\" width=\"50%\" />"
   ]
  },
  {
   "cell_type": "markdown",
   "metadata": {},
   "source": [
    "## 创建\n",
    "\n",
    "直接创建\n",
    "\n",
    "```torch.tensor(data, dtype=None, device=None,requires_grad=False)```\n",
    "\n",
    "- data，是要传入模型的数据。PyTorch 支持通过 list、 tuple、numpy array、scalar 等多种类型进行数据传入，并转换为 tensor；\n",
    "- dtype，它声明了需要返回的 Tensor 的类型；\n",
    "- device，这个参数指定了数据要返回到的设备；\n",
    "- requires_grad，用于说明当前量是否需要在计算中保留对应的梯度信息。\n",
    "\n",
    "  > requires_grad 的设置要灵活处理：\n",
    "  >- 如果是训练过程就要设置为 true，目的是方便求导、更新参数。而到了验证或者测试过程；\n",
    "  >- 如果目的是检查当前模型的泛化能力，就要设置成 Fasle，避免这个参数根据 loss 自动更新。\n",
    "\n",
    "从 Numpy 创建\n",
    "\n",
    "```\n",
    "torch.from_numpy(ndarry)\n",
    "```\n",
    "\n",
    "创建特殊形式的 Tensor\n",
    "\n",
    "```\n",
    "torch.zeros(*size, dtype=None...)\n",
    "torch.ones(size, dtype=None...)\n",
    "```\n",
    "\n",
    "创建单位矩阵 Tensor：（单位矩阵是指主对角线上的元素都为 1 的矩阵）\n",
    "\n",
    "```\n",
    "torch.eye(size, dtype=None...)\n",
    "```\n",
    "\n",
    "创建随机矩阵 Tensor ，在 PyTorch 中有几种较为经常使用的随机矩阵创建方式，分别如下：\n",
    "\n",
    "```\n",
    "torch.rand(size)\n",
    "torch.randn(size)\n",
    "torch.normal(mean, std, size)\n",
    "torch.randint(low, high, size）\n",
    "```\n",
    "\n",
    "- torch.rand 用于生成数据类型为浮点型且维度指定的随机 Tensor，随机生成的浮点数据在 0~1 区间均匀分布。\n",
    "- torch.randn 用于生成数据类型为浮点型且维度指定的随机 Tensor，随机生成的浮点数的取值满足均值为 0、方差为 1 的标准正态分布。\n",
    "- torch.normal 用于生成数据类型为浮点型且维度指定的随机 Tensor，可以指定均值和标准差。\n",
    "- torch.randint 用于生成随机整数的 Tensor，其内部填充的是在[low,high) 均匀生成的随机整数。\n"
   ]
  },
  {
   "cell_type": "markdown",
   "metadata": {},
   "source": [
    "## Tensor 的转换\n",
    "\n",
    "Int 与 Tensor 的转换：\n",
    "\n",
    "通过 torch.tensor 将一个数字（或者标量）转换为 Tensor，又通过 item() 函数，将 Tensor 转换为数字（标量），item() 函数的作用就是将 Tensor 转换为一个 python number。"
   ]
  },
  {
   "cell_type": "code",
   "execution_count": 2,
   "metadata": {},
   "outputs": [
    {
     "name": "stdout",
     "output_type": "stream",
     "text": [
      "tensor(1)\n",
      "1\n"
     ]
    }
   ],
   "source": [
    "a = torch.tensor(1)\n",
    "b = a.item()\n",
    "print(a)\n",
    "print(b)"
   ]
  },
  {
   "cell_type": "markdown",
   "metadata": {},
   "source": [
    "list 与 Tensor 的转换：\n",
    "\n",
    "使用 torch.tensor 就可以将其转换为 Tensor 了。而还原回来的过程要多一步，需要先将 Tensor 转为 NumPy 结构，之后再使用 tolist() 函数得到 list。"
   ]
  },
  {
   "cell_type": "code",
   "execution_count": 3,
   "metadata": {},
   "outputs": [
    {
     "name": "stdout",
     "output_type": "stream",
     "text": [
      "tensor([1, 2, 3])\n",
      "[1, 2, 3]\n"
     ]
    }
   ],
   "source": [
    "a = [1, 2, 3]\n",
    "b = torch.tensor(a)\n",
    "c = b.numpy().tolist()\n",
    "\n",
    "print(b)\n",
    "print(c)"
   ]
  },
  {
   "cell_type": "markdown",
   "metadata": {},
   "source": [
    "NumPy 与 Tensor 的转换：使用 torch.tensor"
   ]
  },
  {
   "cell_type": "code",
   "execution_count": 4,
   "metadata": {},
   "outputs": [
    {
     "name": "stdout",
     "output_type": "stream",
     "text": [
      "\n",
      "numpy array:\n",
      " [[0 1 2]\n",
      " [3 4 5]] \n",
      "torch tensor:\n",
      " tensor([[0, 1, 2],\n",
      "        [3, 4, 5]]) \n",
      "tensor to array:\n",
      " [[0 1 2]\n",
      " [3 4 5]]\n"
     ]
    }
   ],
   "source": [
    "np_data = np.arange(6).reshape((2, 3))\n",
    "\n",
    "torch_data = torch.tensor(np_data)\n",
    "# torch_data = torch.from_numpy(np_data)\n",
    "\n",
    "tensor2array = torch_data.numpy()\n",
    "\n",
    "print(\n",
    "    \"\\nnumpy array:\\n\", np_data,\n",
    "    \"\\ntorch tensor:\\n\", torch_data,\n",
    "    \"\\ntensor to array:\\n\", tensor2array,\n",
    ")"
   ]
  },
  {
   "cell_type": "code",
   "execution_count": 5,
   "metadata": {},
   "outputs": [
    {
     "data": {
      "text/plain": [
       "tensor([[0, 1, 2],\n",
       "        [3, 4, 5]])"
      ]
     },
     "execution_count": 5,
     "metadata": {},
     "output_type": "execute_result"
    }
   ],
   "source": [
    "# torch.tensor(np_data)\n",
    "torch_data"
   ]
  },
  {
   "cell_type": "markdown",
   "metadata": {},
   "source": [
    "CPU 与 GPU 的 Tensor 之间的转换：\n",
    "\n",
    "```\n",
    "CPU->GPU: data.cuda()\n",
    "GPU->CPU: data.cpu()\n",
    "```"
   ]
  },
  {
   "cell_type": "markdown",
   "metadata": {},
   "source": [
    "## Tensor 的常用操作\n",
    "\n",
    "获取形状\n",
    "\n",
    "使用 shape 或 size 来获取。两者的不同之处在于，shape 是 Tensor对象 的一个属性，而 size() 则是一个 Tensor对象 拥有的方法"
   ]
  },
  {
   "cell_type": "code",
   "execution_count": 6,
   "metadata": {},
   "outputs": [
    {
     "name": "stdout",
     "output_type": "stream",
     "text": [
      "torch.Size([2, 3, 5])\n",
      "torch.Size([2, 3, 5])\n"
     ]
    }
   ],
   "source": [
    "a = torch.zeros(2, 3, 5)\n",
    "print(a.shape)\n",
    "print(a.size())"
   ]
  },
  {
   "cell_type": "markdown",
   "metadata": {},
   "source": [
    "知道了 Tensor 的形状，我们就能知道这个 Tensor 所包含的元素的数量了。具体的计算方法就是直接将所有维度的大小相乘，比如上面的 Tensor a 所含有的元素的个数为 2 * 3 * 5=30 个。"
   ]
  },
  {
   "cell_type": "code",
   "execution_count": 7,
   "metadata": {},
   "outputs": [
    {
     "data": {
      "text/plain": [
       "30"
      ]
     },
     "execution_count": 7,
     "metadata": {},
     "output_type": "execute_result"
    }
   ],
   "source": [
    "a.numel()"
   ]
  },
  {
   "cell_type": "markdown",
   "metadata": {},
   "source": [
    "矩阵转秩 (维度转换）\n",
    "\n",
    "在 PyTorch 中有两个函数： permute() 和 transpose() 可以用来实现矩阵的转秩，或者说交换不同维度的数据。\n",
    "比如在调整卷积层的尺寸、修改 channel 的顺序、变换全连接层的大小的时候，就要用到它们。\n",
    "\n",
    "函数 permute ，可以对任意高维矩阵进行转置，但只有 tensor.permute() 这个调用方式。\n",
    "\n",
    "函数 transpose，不同于 permute，它每次只能转换两个维度，或者说交换两个维度的数据。\n",
    "\n",
    "<img src=\"https://static001.geekbang.org/resource/image/02/84/025985c8635f3896d45d15e1ea381c84.jpg\" width=\"30%\" />"
   ]
  },
  {
   "cell_type": "code",
   "execution_count": 8,
   "metadata": {},
   "outputs": [
    {
     "name": "stdout",
     "output_type": "stream",
     "text": [
      "torch.Size([2, 3, 5])\n",
      "torch.Size([5, 3, 2])\n"
     ]
    }
   ],
   "source": [
    "x = torch.rand(2,3,5)\n",
    "print(x.shape)\n",
    "\n",
    "# 2 表示原来第二个维度现在放在了第零个维度；\n",
    "# 同理 1 表示原来第一个维度仍旧在第一个维度；\n",
    "# 0 表示原来第 0 个维度放在了现在的第 2 个维度\n",
    "# 最后，形状就变成 [5,3,2]\n",
    "x = x.permute(2,1,0)\n",
    "print(x.shape)\n"
   ]
  },
  {
   "cell_type": "code",
   "execution_count": 9,
   "metadata": {},
   "outputs": [
    {
     "name": "stdout",
     "output_type": "stream",
     "text": [
      "torch.Size([2, 3, 4])\n",
      "torch.Size([3, 2, 4])\n"
     ]
    }
   ],
   "source": [
    "x = torch.rand(2,3,4)\n",
    "print(x.shape)\n",
    "x = x.transpose(1,0)\n",
    "print(x.shape)"
   ]
  },
  {
   "cell_type": "code",
   "execution_count": 10,
   "metadata": {},
   "outputs": [
    {
     "name": "stdout",
     "output_type": "stream",
     "text": [
      "torch.Size([2, 3, 5])\n",
      "torch.Size([5, 3, 2])\n"
     ]
    }
   ],
   "source": [
    "x = torch.rand(2,3,5)\n",
    "print(x.shape)\n",
    "\n",
    "x = x.transpose(0, 2)\n",
    "print(x.shape)"
   ]
  },
  {
   "cell_type": "markdown",
   "metadata": {},
   "source": [
    "经过了 transpose 或者 permute 处理之后的数据，变得不再连续了。内存虽然没有变化，但是的数据第 0 和第 2 维的数据发生了交换，现在的第 0 维是原来的第 2 维，所以 Tensor 都会变得不再连续。\n",
    "\n",
    "不连续就不连续呗，好像也没啥影响吧？是这样的吗？接着看。"
   ]
  },
  {
   "cell_type": "markdown",
   "metadata": {},
   "source": [
    "形状变换\n",
    "\n",
    "在 PyTorch 中有两种常用的改变形状的函数，分别是 view 和 reshape。\n"
   ]
  },
  {
   "cell_type": "code",
   "execution_count": 11,
   "metadata": {},
   "outputs": [
    {
     "name": "stdout",
     "output_type": "stream",
     "text": [
      "torch.Size([4, 4])\n",
      "torch.Size([2, 8])\n"
     ]
    },
    {
     "data": {
      "text/plain": [
       "tensor([[-0.7802,  1.0232, -0.4342, -0.4089,  0.9112, -0.5994, -1.6719, -0.2978],\n",
       "        [-0.7073, -0.2912,  0.2460, -0.1393,  0.7928,  0.3846,  1.9325, -1.9571]])"
      ]
     },
     "execution_count": 11,
     "metadata": {},
     "output_type": "execute_result"
    }
   ],
   "source": [
    "x = torch.randn(4, 4)\n",
    "print(x.shape)\n",
    "x = x.view(2,8)\n",
    "print(x.shape)\n",
    "x"
   ]
  },
  {
   "cell_type": "code",
   "execution_count": 12,
   "metadata": {},
   "outputs": [
    {
     "name": "stdout",
     "output_type": "stream",
     "text": [
      "torch.Size([8, 2])\n"
     ]
    }
   ],
   "source": [
    "x = x.permute(1,0)\n",
    "print(x.shape)\n",
    "\n",
    "# x.view(4, 4)\n",
    "\n",
    "# RuntimeError: view size is not compatible with input tensor's size and stride \n",
    "# (at least one dimension spans across two contiguous subspaces). Use .reshape(...) instead."
   ]
  },
  {
   "cell_type": "markdown",
   "metadata": {},
   "source": [
    "抛出错误是由于经过 permute 后，将第 0 和第 1 维度的数据进行了变换，跨连续子空间了，而 view 无法处理内存不连续的 Tensor 。\n",
    "\n",
    "而 reshape 可以很好地工作，因为 reshape 相当于进行了两步操作，先把 Tensor 在内存中捋顺了，然后再进行 view 操作。"
   ]
  },
  {
   "cell_type": "code",
   "execution_count": 13,
   "metadata": {},
   "outputs": [
    {
     "data": {
      "text/plain": [
       "tensor([[-0.7802, -0.7073,  1.0232, -0.2912],\n",
       "        [-0.4342,  0.2460, -0.4089, -0.1393],\n",
       "        [ 0.9112,  0.7928, -0.5994,  0.3846],\n",
       "        [-1.6719,  1.9325, -0.2978, -1.9571]])"
      ]
     },
     "execution_count": 13,
     "metadata": {},
     "output_type": "execute_result"
    }
   ],
   "source": [
    "x = x.reshape(4, 4)\n",
    "x"
   ]
  },
  {
   "cell_type": "markdown",
   "metadata": {},
   "source": [
    "增减维度\n",
    "\n",
    "有时候我们需要对 Tensor 增加或者删除某些维度，比如删除或者增加图片的几个通道。PyTorch 提供了 squeeze() 和 unsqueeze() 函数解决这个问题。\n",
    "\n",
    "- squeeze()：如果 dim 指定的维度的值为 1，则将该维度删除，若指定的维度值不为 1，则返回原来的 Tensor。\n",
    "- unsqueeze()：这个函数主要是对数据维度进行扩充。给指定位置加上维数为 1 的维度。"
   ]
  },
  {
   "cell_type": "code",
   "execution_count": 14,
   "metadata": {},
   "outputs": [
    {
     "name": "stdout",
     "output_type": "stream",
     "text": [
      "torch.Size([2, 1, 3])\n",
      "torch.Size([2, 3])\n",
      "torch.Size([2, 3])\n"
     ]
    }
   ],
   "source": [
    "x = torch.rand(2,1,3)\n",
    "print(x.shape)\n",
    "\n",
    "y = x.squeeze(1)\n",
    "print(y.shape)\n",
    "\n",
    "# 这里失败了：因为 y 此刻的第 1 维度的大小为 3，suqeeze 不能删除。\n",
    "z = y.squeeze(1)\n",
    "print(z.shape)"
   ]
  },
  {
   "cell_type": "code",
   "execution_count": 15,
   "metadata": {},
   "outputs": [
    {
     "data": {
      "text/plain": [
       "torch.Size([2, 1, 1, 3])"
      ]
     },
     "execution_count": 15,
     "metadata": {},
     "output_type": "execute_result"
    }
   ],
   "source": [
    "x = torch.rand(2,1,3)\n",
    "y = x.unsqueeze(2)\n",
    "y.shape"
   ]
  },
  {
   "cell_type": "markdown",
   "metadata": {},
   "source": [
    "## 小结\n",
    "\n",
    "把 NumPy 和 Tensor 做对比，它们之间有很多共通的内容，两者都是数据的表示形式，都可以看作是科学计算的通用工具。但是 NumPy 和 Tensor 的用途是不一样的，NumPy 不能用于 GPU 加速，Tensor 则可以。\n"
   ]
  }
 ],
 "metadata": {
  "kernelspec": {
   "display_name": "Python 3.9.12 ('neuro')",
   "language": "python",
   "name": "python3"
  },
  "language_info": {
   "codemirror_mode": {
    "name": "ipython",
    "version": 3
   },
   "file_extension": ".py",
   "mimetype": "text/x-python",
   "name": "python",
   "nbconvert_exporter": "python",
   "pygments_lexer": "ipython3",
   "version": "3.9.12"
  },
  "orig_nbformat": 4,
  "vscode": {
   "interpreter": {
    "hash": "757db7ef77c83814adbeeb3ac793403c6c9d7e2b87df671eda65f632ba05d1a7"
   }
  }
 },
 "nbformat": 4,
 "nbformat_minor": 2
}
