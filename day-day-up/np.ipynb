{
 "cells": [
  {
   "cell_type": "markdown",
   "metadata": {},
   "source": [
    "# Numpy"
   ]
  },
  {
   "cell_type": "code",
   "execution_count": 1,
   "metadata": {},
   "outputs": [],
   "source": [
    "import numpy as np\n",
    "from matplotlib import pyplot as plt"
   ]
  },
  {
   "cell_type": "markdown",
   "metadata": {},
   "source": [
    "np.outer() 矩阵外积，np.inner() 矩阵内积 （和 np.dot() 的用法稍稍有些不同，可以理解成 np.dot(a, b）= np.inner(a, b.T), 把 b 做一次转置）。"
   ]
  },
  {
   "cell_type": "code",
   "execution_count": 2,
   "metadata": {},
   "outputs": [],
   "source": [
    "a = np.array([\n",
    "    [1, 2],\n",
    "    [3, 4]\n",
    "])\n",
    "b = np.array([\n",
    "    [5, 6],\n",
    "    [7, 8]\n",
    "])\n"
   ]
  },
  {
   "cell_type": "code",
   "execution_count": 3,
   "metadata": {},
   "outputs": [
    {
     "data": {
      "text/plain": [
       "array([[19, 22],\n",
       "       [43, 50]])"
      ]
     },
     "execution_count": 3,
     "metadata": {},
     "output_type": "execute_result"
    }
   ],
   "source": [
    "np.dot(a,b )\n",
    "# == \n",
    "a.dot(b)"
   ]
  },
  {
   "cell_type": "code",
   "execution_count": 4,
   "metadata": {},
   "outputs": [],
   "source": [
    "bt = b.T"
   ]
  },
  {
   "cell_type": "code",
   "execution_count": 5,
   "metadata": {},
   "outputs": [
    {
     "data": {
      "text/plain": [
       "array([[ True,  True],\n",
       "       [ True,  True]])"
      ]
     },
     "execution_count": 5,
     "metadata": {},
     "output_type": "execute_result"
    }
   ],
   "source": [
    "z1 = np.inner(a, bt) \n",
    "z2 = np.dot(a, b)\n",
    "\n",
    "z1 == z2"
   ]
  },
  {
   "cell_type": "code",
   "execution_count": 6,
   "metadata": {},
   "outputs": [
    {
     "data": {
      "text/plain": [
       "183"
      ]
     },
     "execution_count": 6,
     "metadata": {},
     "output_type": "execute_result"
    }
   ],
   "source": [
    "h = np.array([150, 166, 183, 170])\n",
    "h.max()"
   ]
  },
  {
   "cell_type": "code",
   "execution_count": 7,
   "metadata": {},
   "outputs": [
    {
     "data": {
      "text/plain": [
       "array([0, 1, 3, 2])"
      ]
     },
     "execution_count": 7,
     "metadata": {},
     "output_type": "execute_result"
    }
   ],
   "source": [
    "h.argsort()"
   ]
  },
  {
   "cell_type": "code",
   "execution_count": 8,
   "metadata": {},
   "outputs": [
    {
     "data": {
      "text/plain": [
       "11.776565713313877"
      ]
     },
     "execution_count": 8,
     "metadata": {},
     "output_type": "execute_result"
    }
   ],
   "source": [
    "np.mean(h)\n",
    "np.median(h)\n",
    "np.std(h)"
   ]
  },
  {
   "cell_type": "code",
   "execution_count": 9,
   "metadata": {},
   "outputs": [
    {
     "data": {
      "text/plain": [
       "24"
      ]
     },
     "execution_count": 9,
     "metadata": {},
     "output_type": "execute_result"
    }
   ],
   "source": [
    "n = np.array([1,2,3,4])\n",
    "n.prod() # 累乘 n!"
   ]
  },
  {
   "cell_type": "code",
   "execution_count": 10,
   "metadata": {},
   "outputs": [
    {
     "data": {
      "text/plain": [
       "4"
      ]
     },
     "execution_count": 10,
     "metadata": {},
     "output_type": "execute_result"
    }
   ],
   "source": [
    "np.nonzero(n)\n",
    "np.count_nonzero(n)"
   ]
  },
  {
   "cell_type": "markdown",
   "metadata": {},
   "source": [
    "自由的取值截取空间可以用 np.clip() 来做上下界限的值截取。"
   ]
  },
  {
   "cell_type": "code",
   "execution_count": 11,
   "metadata": {},
   "outputs": [
    {
     "data": {
      "text/plain": [
       "array([160, 166, 168, 168])"
      ]
     },
     "execution_count": 11,
     "metadata": {},
     "output_type": "execute_result"
    }
   ],
   "source": [
    "h.clip(160, 168)"
   ]
  },
  {
   "cell_type": "code",
   "execution_count": 12,
   "metadata": {},
   "outputs": [
    {
     "data": {
      "text/plain": [
       "array([[1, 2, 3, 4, 5, 6]])"
      ]
     },
     "execution_count": 12,
     "metadata": {},
     "output_type": "execute_result"
    }
   ],
   "source": [
    "a = np.array([1,2,3,4,5,6])\n",
    "amat = np.expand_dims(a, axis=0)\n",
    "# ==\n",
    "a_2d = a[np.newaxis, :]\n",
    "a_2d"
   ]
  },
  {
   "cell_type": "code",
   "execution_count": 13,
   "metadata": {},
   "outputs": [
    {
     "data": {
      "text/plain": [
       "array([1, 2, 3, 4, 5, 6])"
      ]
     },
     "execution_count": 13,
     "metadata": {},
     "output_type": "execute_result"
    }
   ],
   "source": [
    "a_2d.squeeze(axis=0)"
   ]
  },
  {
   "cell_type": "code",
   "execution_count": 14,
   "metadata": {},
   "outputs": [
    {
     "data": {
      "text/plain": [
       "array([[[1, 2]],\n",
       "\n",
       "       [[3, 4]],\n",
       "\n",
       "       [[5, 6]]])"
      ]
     },
     "execution_count": 14,
     "metadata": {},
     "output_type": "execute_result"
    }
   ],
   "source": [
    "a.reshape([3,1,2])"
   ]
  },
  {
   "cell_type": "code",
   "execution_count": 15,
   "metadata": {},
   "outputs": [
    {
     "data": {
      "text/plain": [
       "array([[1, 2, 3, 4, 5, 6, 1, 2, 3, 4, 5, 6]])"
      ]
     },
     "execution_count": 15,
     "metadata": {},
     "output_type": "execute_result"
    }
   ],
   "source": [
    "np.column_stack([a, a])\n",
    "# !==\n",
    "np.hstack([a_2d, a_2d])"
   ]
  },
  {
   "cell_type": "code",
   "execution_count": 16,
   "metadata": {},
   "outputs": [
    {
     "data": {
      "text/plain": [
       "array([[1, 2, 3, 4, 5, 6],\n",
       "       [1, 2, 3, 4, 5, 6]])"
      ]
     },
     "execution_count": 16,
     "metadata": {},
     "output_type": "execute_result"
    }
   ],
   "source": [
    "np.row_stack([a, a])\n",
    "np.vstack([a,a])"
   ]
  },
  {
   "cell_type": "code",
   "execution_count": 17,
   "metadata": {},
   "outputs": [
    {
     "name": "stdout",
     "output_type": "stream",
     "text": [
      "[array([[ 1, 11,  2, 22],\n",
      "       [ 3, 33,  4, 44],\n",
      "       [ 5, 55,  6, 66],\n",
      "       [ 7, 77,  8, 88]])]\n"
     ]
    },
    {
     "data": {
      "text/plain": [
       "(1, 4, 4)"
      ]
     },
     "execution_count": 17,
     "metadata": {},
     "output_type": "execute_result"
    }
   ],
   "source": [
    "b = np.array(\n",
    "[[ 1, 11, 2, 22],\n",
    " [ 3, 33, 4, 44],\n",
    " [ 5, 55, 6, 66],\n",
    " [ 7, 77, 8, 88]]\n",
    ")\n",
    "tmp = np.vsplit(b, indices_or_sections=1)\n",
    "print(tmp)\n",
    "np.shape(tmp)"
   ]
  },
  {
   "cell_type": "code",
   "execution_count": 18,
   "metadata": {},
   "outputs": [
    {
     "data": {
      "text/plain": [
       "array([[0., 0., 0.],\n",
       "       [0., 0., 0.]])"
      ]
     },
     "execution_count": 18,
     "metadata": {},
     "output_type": "execute_result"
    }
   ],
   "source": [
    "# all o\n",
    "np.zeros([2,3])"
   ]
  },
  {
   "cell_type": "code",
   "execution_count": 19,
   "metadata": {},
   "outputs": [
    {
     "data": {
      "text/plain": [
       "array([[1., 1., 1.],\n",
       "       [1., 1., 1.]])"
      ]
     },
     "execution_count": 19,
     "metadata": {},
     "output_type": "execute_result"
    }
   ],
   "source": [
    "# all 1\n",
    "np.ones([2,3])"
   ]
  },
  {
   "cell_type": "code",
   "execution_count": 20,
   "metadata": {},
   "outputs": [
    {
     "data": {
      "text/plain": [
       "array([[9, 9, 9],\n",
       "       [9, 9, 9]])"
      ]
     },
     "execution_count": 20,
     "metadata": {},
     "output_type": "execute_result"
    }
   ],
   "source": [
    "# fullfill 9\n",
    "np.full([2,3], 9)"
   ]
  },
  {
   "cell_type": "code",
   "execution_count": 21,
   "metadata": {},
   "outputs": [
    {
     "data": {
      "text/plain": [
       "array([[0, 0, 0, 0],\n",
       "       [0, 0, 0, 0],\n",
       "       [0, 0, 0, 0],\n",
       "       [0, 0, 0, 0]])"
      ]
     },
     "execution_count": 21,
     "metadata": {},
     "output_type": "execute_result"
    }
   ],
   "source": [
    "np.zeros_like(b)"
   ]
  },
  {
   "cell_type": "code",
   "execution_count": 22,
   "metadata": {},
   "outputs": [
    {
     "data": {
      "text/plain": [
       "array([-1. , -0.5,  0. ,  0.5,  1. ])"
      ]
     },
     "execution_count": 22,
     "metadata": {},
     "output_type": "execute_result"
    }
   ],
   "source": [
    "# get 5 numbers between start and end\n",
    "np.linspace(-1, 1, 5 , endpoint=True)"
   ]
  },
  {
   "cell_type": "code",
   "execution_count": 23,
   "metadata": {},
   "outputs": [
    {
     "data": {
      "text/plain": [
       "array([[0.e+000, 0.e+000, 4.e-323],\n",
       "       [0.e+000, 0.e+000, 0.e+000],\n",
       "       [0.e+000, 0.e+000, 0.e+000],\n",
       "       [0.e+000, 0.e+000, 0.e+000]])"
      ]
     },
     "execution_count": 23,
     "metadata": {},
     "output_type": "execute_result"
    }
   ],
   "source": [
    "# but these numbers are not\n",
    "# can be a placeholder and generated quicker than zeros, ones and full\n",
    "np.empty([4,3])"
   ]
  },
  {
   "cell_type": "code",
   "execution_count": 24,
   "metadata": {},
   "outputs": [
    {
     "data": {
      "text/plain": [
       "array([[0.        , 0.10801206, 0.21602413],\n",
       "       [0.32403619, 0.43204825, 0.54006031]])"
      ]
     },
     "execution_count": 24,
     "metadata": {},
     "output_type": "execute_result"
    }
   ],
   "source": [
    "from random import random\n",
    "\n",
    "np.arange(6).reshape([2, 3]) * random()\n"
   ]
  },
  {
   "cell_type": "code",
   "execution_count": 25,
   "metadata": {},
   "outputs": [
    {
     "data": {
      "text/plain": [
       "array([-2,  3, -2,  1, -3,  5,  4,  1, -2,  0])"
      ]
     },
     "execution_count": 25,
     "metadata": {},
     "output_type": "execute_result"
    }
   ],
   "source": [
    "from numpy.random import randint\n",
    "\n",
    "# randint(1, 10)\n",
    "\n",
    "# np.random.rand(2, 3)\n",
    "# # ==\n",
    "# np.random.random([2, 3])\n",
    "\n",
    "randint(-3, 6, size=10)"
   ]
  },
  {
   "cell_type": "code",
   "execution_count": 26,
   "metadata": {},
   "outputs": [
    {
     "data": {
      "text/plain": [
       "array([6, 3, 4])"
      ]
     },
     "execution_count": 26,
     "metadata": {},
     "output_type": "execute_result"
    }
   ],
   "source": [
    "# randomly pick up from data arrary\n",
    "\n",
    "choice = np.array([2,3,4,1,7,6,5])\n",
    "# np.random.choice(choice)\n",
    "# np.random.choice(choice, size=3)\n",
    "# np.random.choice(choice, size=3, replace=False)\n",
    "\n",
    "np.random.choice(choice, size=3, replace=False, p=[0.1,0.3,0.1,0.1,0.2,0.1,0.1])"
   ]
  },
  {
   "cell_type": "code",
   "execution_count": 27,
   "metadata": {},
   "outputs": [
    {
     "data": {
      "text/plain": [
       "array([4, 2, 5, 7, 3, 6, 1])"
      ]
     },
     "execution_count": 27,
     "metadata": {},
     "output_type": "execute_result"
    }
   ],
   "source": [
    "# shuffling\n",
    "\n",
    "choice_copy = np.copy(choice)\n",
    "np.random.shuffle(choice_copy)\n",
    "choice_copy"
   ]
  },
  {
   "cell_type": "code",
   "execution_count": 28,
   "metadata": {},
   "outputs": [
    {
     "data": {
      "text/plain": [
       "array([[ 2,  3],\n",
       "       [ 0,  1],\n",
       "       [10, 11],\n",
       "       [ 8,  9],\n",
       "       [ 6,  7],\n",
       "       [ 4,  5]])"
      ]
     },
     "execution_count": 28,
     "metadata": {},
     "output_type": "execute_result"
    }
   ],
   "source": [
    "np.random.permutation(10)\n",
    "\n",
    "data = np.arange(12).reshape(6,2)\n",
    "np.random.permutation(data)"
   ]
  },
  {
   "cell_type": "code",
   "execution_count": 29,
   "metadata": {},
   "outputs": [
    {
     "data": {
      "image/png": "[encoded data removed]",
      "text/plain": [
       "<Figure size 432x288 with 1 Axes>"
      ]
     },
     "metadata": {
      "needs_background": "light"
     },
     "output_type": "display_data"
    },
    {
     "data": {
      "text/plain": [
       "array([ 0.08108102,  0.31794067,  0.06330494, -0.04932527, -0.71939084,\n",
       "       -0.84340195,  0.73353888, -0.26849331, -0.23907829, -0.35758779])"
      ]
     },
     "execution_count": 29,
     "metadata": {},
     "output_type": "execute_result"
    }
   ],
   "source": [
    "# 正态分布\n",
    "data = np.random.normal(1, 0.2, 10)\n",
    "# 均匀分布\n",
    "data = np.random.uniform(-1,1,10)\n",
    "\n",
    "plt.plot(data, '-.')\n",
    "plt.show()\n",
    "data"
   ]
  },
  {
   "cell_type": "code",
   "execution_count": 30,
   "metadata": {},
   "outputs": [
    {
     "name": "stdout",
     "output_type": "stream",
     "text": [
      "[8 2 3]\n",
      "[6 8 6]\n"
     ]
    }
   ],
   "source": [
    "# 伪随机\n",
    "# np.random.seed(1)\n",
    "data1 =np.random.randint(2,10, size=3)\n",
    "data2 =np.random.randint(2,10, size=3)\n",
    "\n",
    "print(data1)\n",
    "print(data2)"
   ]
  },
  {
   "cell_type": "code",
   "execution_count": 31,
   "metadata": {},
   "outputs": [],
   "source": [
    "from statistics import mean\n",
    "import timeit\n",
    "from functools import partial\n",
    "\n",
    "from numpy import percentile\n",
    "        \n",
    "def get_run_time(func, *args):\n",
    "    repeat = 3\n",
    "    number = 200\n",
    "    return percentile(timeit.Timer(partial(func, *args)).repeat(repeat=repeat, number=number), 90) / number\n"
   ]
  },
  {
   "cell_type": "code",
   "execution_count": 32,
   "metadata": {},
   "outputs": [
    {
     "name": "stdout",
     "output_type": "stream",
     "text": [
      "0.002201 - b = 2*b\n",
      "0.000291 - a *= 2\n"
     ]
    }
   ],
   "source": [
    "a = np.random.rand(1000, 1000)\n",
    "b = np.random.rand(1000, 1000)\n",
    "\n",
    "def f1():\n",
    "    global b\n",
    "    # 这会产生新的 b\n",
    "    b = 2*b\n",
    "\n",
    "def f2():\n",
    "    global a\n",
    "    # 这不会产生新的 a\n",
    "    a *= 2    # 和 a[:] *= 2 一样\n",
    "\n",
    "print('%.6f - b = 2*b' % get_run_time(f1))\n",
    "print('%.6f - a *= 2' % get_run_time(f2))\n"
   ]
  },
  {
   "cell_type": "code",
   "execution_count": 33,
   "metadata": {},
   "outputs": [
    {
     "name": "stdout",
     "output_type": "stream",
     "text": [
      "0.001787 - flatten\n",
      "0.000000 - ravel\n"
     ]
    }
   ],
   "source": [
    "# 矩阵展平, 用到 np.flatten() 或者 np.ravel()\n",
    "# 如果用 ravel(), 需要 copy 的时候才会被 copy\n",
    "\n",
    "def f1():\n",
    "    a.flatten()\n",
    "\n",
    "def f2():\n",
    "    b.ravel()\n",
    "\n",
    "print('%.6f - flatten' % get_run_time(f1))\n",
    "print('%.6f - ravel' % get_run_time(f2))"
   ]
  },
  {
   "cell_type": "code",
   "execution_count": 34,
   "metadata": {},
   "outputs": [
    {
     "name": "stdout",
     "output_type": "stream",
     "text": [
      "0.000273 - [indices]\n",
      "0.000110 - take\n"
     ]
    }
   ],
   "source": [
    "# take 替代 fancy indexing\n",
    "a = np.random.rand(1000000, 10)\n",
    "indices = np.random.randint(0, len(a), size=10000)\n",
    "\n",
    "def f1():\n",
    "    # fancy indexing\n",
    "    _ = a[indices]\n",
    "\n",
    "def f2():\n",
    "    # take\n",
    "    _ = np.take(a, indices, axis=0)\n",
    "\n",
    "print('%.6f - [indices]' % get_run_time(f1))\n",
    "print('%.6f - take' % get_run_time(f2)) "
   ]
  },
  {
   "cell_type": "code",
   "execution_count": 35,
   "metadata": {},
   "outputs": [
    {
     "name": "stdout",
     "output_type": "stream",
     "text": [
      "0.000168 - [mask]\n",
      "0.000054 - compress\n"
     ]
    }
   ],
   "source": [
    "a = np.random.rand(10000, 10)\n",
    "mask = a[:, 0] < 0.5\n",
    "\n",
    "def f1():\n",
    "    _ = a[mask]\n",
    "\n",
    "def f2():\n",
    "    _ = np.compress(mask, a, axis=0)\n",
    "        \n",
    "\n",
    "print('%.6f - [mask]' % get_run_time(f1))\n",
    "print('%.6f - compress' % get_run_time(f2))"
   ]
  },
  {
   "cell_type": "code",
   "execution_count": 36,
   "metadata": {},
   "outputs": [
    {
     "name": "stdout",
     "output_type": "stream",
     "text": [
      "0.002727 - without out\n",
      "0.000339 - out\n",
      "0.001861 - new data\n"
     ]
    }
   ],
   "source": [
    "# out 参数\n",
    "a = np.zeros([1000, 1000])\n",
    "b = np.zeros_like(a)\n",
    "c = np.zeros_like(a)\n",
    "\n",
    "def f1():\n",
    "    a[:] = np.add(a, 1)  # 把计算结果赋值回原数据\n",
    "\n",
    "def f2():\n",
    "    np.add(b, 1, out=b)  # 把计算结果赋值回原数据\n",
    "\n",
    "def f3():\n",
    "    _c = np.add(c, 1)   # 把计算结果赋值到新数据\n",
    "\n",
    "\n",
    "print('%.6f - without out' % get_run_time(f1))     \n",
    "print('%.6f - out' % get_run_time(f2))\n",
    "print('%.6f - new data' % get_run_time(f3))\n"
   ]
  },
  {
   "cell_type": "code",
   "execution_count": 37,
   "metadata": {},
   "outputs": [
    {
     "name": "stdout",
     "output_type": "stream",
     "text": [
      "(10000, 10)\n",
      "(10000,)\n"
     ]
    }
   ],
   "source": [
    "a = np.random.rand(10000, 10)\n",
    "mask = a[:, 0] < 0.5\n",
    "print(a.shape)\n",
    "print(mask.shape)"
   ]
  },
  {
   "cell_type": "code",
   "execution_count": 38,
   "metadata": {},
   "outputs": [
    {
     "name": "stdout",
     "output_type": "stream",
     "text": [
      "data shape: (4, 3)\n",
      "weights shape: (3, 2)\n",
      "output shape: (4, 2)\n"
     ]
    },
    {
     "data": {
      "text/plain": [
       "array([[0.33173702, 1.33682249],\n",
       "       [0.25981943, 1.09267821],\n",
       "       [0.34107904, 0.70433188],\n",
       "       [0.30409399, 1.22261881]])"
      ]
     },
     "execution_count": 38,
     "metadata": {},
     "output_type": "execute_result"
    }
   ],
   "source": [
    "data = np.random.rand(4, 3)\n",
    "weights = np.random.rand(3, 2)\n",
    "output = np.dot(data, weights)\n",
    "\n",
    "print(\"data shape:\", data.shape)\n",
    "print(\"weights shape:\", weights.shape)\n",
    "print(\"output shape:\", output.shape)\n",
    "output"
   ]
  },
  {
   "cell_type": "code",
   "execution_count": 39,
   "metadata": {},
   "outputs": [],
   "source": [
    "def draw_scatter(x, y):\n",
    "    plt.scatter(x.ravel(), y.ravel())\n",
    "    plt.show()"
   ]
  },
  {
   "cell_type": "code",
   "execution_count": 40,
   "metadata": {},
   "outputs": [
    {
     "data": {
      "image/png": "[encoded data removed]",
      "text/plain": [
       "<Figure size 432x288 with 1 Axes>"
      ]
     },
     "metadata": {
      "needs_background": "light"
     },
     "output_type": "display_data"
    }
   ],
   "source": [
    "x = np.linspace(-1, 1, 10)[:, None]     # shape [10, 1]\n",
    "y = np.random.normal(loc=0, scale=0.2, size=[10, 1]) + x   # shape [10, 1]\n",
    "\n",
    "draw_scatter(x, y)"
   ]
  }
 ],
 "metadata": {
  "kernelspec": {
   "display_name": "finlab",
   "language": "python",
   "name": "finlab"
  },
  "language_info": {
   "codemirror_mode": {
    "name": "ipython",
    "version": 3
   },
   "file_extension": ".py",
   "mimetype": "text/x-python",
   "name": "python",
   "nbconvert_exporter": "python",
   "pygments_lexer": "ipython3",
   "version": "3.9.12"
  },
  "orig_nbformat": 4,
  "vscode": {
   "interpreter": {
    "hash": "b9483049b3e9c670bddef98344a0490f9e244cf0a26cd571bf6775c67c05d5cd"
   }
  }
 },
 "nbformat": 4,
 "nbformat_minor": 2
}
