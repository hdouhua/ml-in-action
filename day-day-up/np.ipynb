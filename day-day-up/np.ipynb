{
 "cells": [
  {
   "cell_type": "markdown",
   "metadata": {},
   "source": [
    "# Numpy\n",
    "\n",
    "科学计算的一个基础包。\n",
    "\n",
    "不管是 PyTorch 还是 TensorFlow，或者是传统机器学习的 scikit-learn，在读入数据这一块，都会先把数据转换成 NumPy 的数组，然后再进行后续的一系列操作。\n",
    "\n",
    "数组对象是 NumPy 中最核心的组成部分，这个数组叫做 ndarray，是“N-dimensional array”的缩写。其中的 N 是一个数字，指代维度。 Numpy 数组的一些特点：\n",
    "\n",
    "1. Python 中的列表可以动态地改变，而 NumPy 数组是不可以的，它在创建时就有固定大小了。改变 Numpy 数组长度的话，会新创建一个新的数组并且删除原数组。\n",
    "2. NumPy 数组中的数据类型必须是一样的，而列表中的元素可以是多样的。\n",
    "3. NumPy 针对 NumPy 数组一系列的运算进行了优化，使得其速度特别快，并且相对于 Python 中的列表，同等操作只需使用更少的内存。\n"
   ]
  },
  {
   "cell_type": "code",
   "execution_count": 1,
   "metadata": {},
   "outputs": [],
   "source": [
    "import numpy as np\n",
    "from matplotlib import pyplot as plt"
   ]
  },
  {
   "cell_type": "markdown",
   "metadata": {},
   "source": [
    "## 创建\n",
    "\n",
    "最简单的方法就是把一个列表传入到 np.array() 或 np.asarray() 中，其中 **np.array() 属于深拷贝，np.asarray() 则是浅拷贝**。"
   ]
  },
  {
   "cell_type": "code",
   "execution_count": 2,
   "metadata": {},
   "outputs": [
    {
     "name": "stdout",
     "output_type": "stream",
     "text": [
      "[[1 2]\n",
      " [3 4]\n",
      " [5 6]]\n",
      "[[5 6]\n",
      " [7 8]]\n"
     ]
    }
   ],
   "source": [
    "a = np.array([\n",
    "    [1, 2],\n",
    "    [3, 4],\n",
    "    [5, 6],\n",
    "])\n",
    "b = np.asarray([[5, 6], [7, 8]])\n",
    "\n",
    "print(a)\n",
    "print(b)"
   ]
  },
  {
   "cell_type": "markdown",
   "metadata": {},
   "source": [
    "作为一个数组，NumPy 有一些固有的属性：纬度 dimension 、形状 shape 、大小 size 与数据类型 datatype 。\n",
    "\n",
    "常用的创建方法：\n",
    "\n",
    "- np.reshape() 可以变换数组的形状。\n",
    "- np.astype() 改变数组的数据类型，不过改变数据类型会创建一个新的数组，而不是改变原数组的数据类型。\n",
    "- np.ones() 创建全 0 的数组\n",
    "- np.zeros() np.ones() 用来创建一个全 1 的数组\n",
    "- np.arange([start, ]stop, [step, ]dtype=None) 创建一个在[start, stop) 区间的数组，元素之间的跨度是 step。\n",
    "- np.linspace(start, stop, num=50, endpoint=True, retstep=False, dtype=None) 创建一个从开始数值到结束数值的等差数列。"
   ]
  },
  {
   "cell_type": "code",
   "execution_count": 3,
   "metadata": {},
   "outputs": [
    {
     "name": "stdout",
     "output_type": "stream",
     "text": [
      "[[1 2]\n",
      " [3 4]\n",
      " [5 6]]\n",
      "dimension: 2\n",
      "shape: (3, 2)\n",
      "size: 6\n",
      "data type: int64\n",
      "[[1 2 3]\n",
      " [4 5 6]]\n"
     ]
    },
    {
     "data": {
      "text/plain": [
       "array([[1, 5, 4],\n",
       "       [3, 2, 6]])"
      ]
     },
     "execution_count": 3,
     "metadata": {},
     "output_type": "execute_result"
    }
   ],
   "source": [
    "print(a)\n",
    "\n",
    "print(\"dimension:\", a.ndim)\n",
    "print(\"shape:\", a.shape)\n",
    "print(\"size:\", a.size)\n",
    "print(\"data type:\", a.dtype)\n",
    "\n",
    "# C-like, Fortran-like, 几乎全部使用默认的 C-like\n",
    "print(a.reshape(2,3, order='C'))\n",
    "a.reshape(2,3, order='F')"
   ]
  },
  {
   "cell_type": "code",
   "execution_count": 4,
   "metadata": {},
   "outputs": [
    {
     "name": "stdout",
     "output_type": "stream",
     "text": [
      "[[0. 0. 0.]\n",
      " [0. 0. 0.]]\n",
      "[[5. 5. 5.]\n",
      " [5. 5. 5.]]\n",
      "[0 1 2 3 4 5 6 7 8]\n",
      "[0 3 6]\n",
      "[0.  4.5 9. ]\n"
     ]
    }
   ],
   "source": [
    "print(np.zeros([2,3]))\n",
    "print(np.ones([2,3]) * 5)\n",
    "print(np.arange(0, 9))\n",
    "print(np.arange(0, 9, 3))\n",
    "print(np.linspace(0, 9, num=3))"
   ]
  },
  {
   "cell_type": "code",
   "execution_count": 5,
   "metadata": {},
   "outputs": [
    {
     "data": {
      "image/png": "[encoded data removed]",
      "text/plain": [
       "<Figure size 640x480 with 1 Axes>"
      ]
     },
     "metadata": {},
     "output_type": "display_data"
    }
   ],
   "source": [
    "# y = x^2\n",
    "\n",
    "X = np.arange(-50, 50, 2)\n",
    "# X = np.arange(-50, 51, 2)\n",
    "Y = X ** 2\n",
    "\n",
    "plt.plot(X, Y, color='b')\n",
    "plt.show()"
   ]
  },
  {
   "cell_type": "markdown",
   "metadata": {},
   "source": [
    "## 数组的轴\n",
    "\n",
    "这是一个非常重要的却不好理解的概念。\n",
    "\n",
    "众向是 0 轴 （行），横向是 1 轴 （列）。\n",
    "\n",
    "假设下面的是 4 名同学，关于 3 款游戏的评分"
   ]
  },
  {
   "cell_type": "code",
   "execution_count": 6,
   "metadata": {},
   "outputs": [
    {
     "data": {
      "text/plain": [
       "array([[3, 5, 3],\n",
       "       [8, 3, 5],\n",
       "       [7, 8, 9],\n",
       "       [8, 7, 9]])"
      ]
     },
     "execution_count": 6,
     "metadata": {},
     "output_type": "execute_result"
    }
   ],
   "source": [
    "score = np.random.randint(10, size=(4,3))\n",
    "score"
   ]
  },
  {
   "cell_type": "code",
   "execution_count": 7,
   "metadata": {},
   "outputs": [
    {
     "name": "stdout",
     "output_type": "stream",
     "text": [
      "[26 23 26]\n",
      "[11 16 24 24]\n",
      "[3.66666667 5.33333333 8.         8.        ]\n"
     ]
    }
   ],
   "source": [
    "# 计算每款有些的总评分\n",
    "# => 沿着 0 轴的方向进行求和\n",
    "print(np.sum(score, axis=0))\n",
    "\n",
    "# 计算每名同学的评分总和\n",
    "print(np.sum(score, axis=1))\n",
    "\n",
    "# 计算每位同学的评分平均值\n",
    "print(np.mean(score, axis=1))"
   ]
  },
  {
   "cell_type": "markdown",
   "metadata": {},
   "source": [
    "多维数组\n",
    "\n",
    "形状为 (a, b, c) 的数组，\n",
    "沿着 0 轴聚合后，形状变为 (b, c)；\n",
    "沿着 1 轴聚合后，形状变为 (a, c)；\n",
    "沿着 2 轴聚合后，形状变为 (a, b)；\n",
    "更高维数组以此类推。"
   ]
  },
  {
   "cell_type": "code",
   "execution_count": 8,
   "metadata": {},
   "outputs": [
    {
     "data": {
      "text/plain": [
       "array([[[ 0,  1,  2],\n",
       "        [ 3,  4,  5]],\n",
       "\n",
       "       [[ 6,  7,  8],\n",
       "        [ 9, 10, 11]],\n",
       "\n",
       "       [[12, 13, 14],\n",
       "        [15, 16, 17]]])"
      ]
     },
     "execution_count": 8,
     "metadata": {},
     "output_type": "execute_result"
    }
   ],
   "source": [
    "a = np.arange(18).reshape(3, 2, 3)\n",
    "# a = np.random.randint(18, size=(3,2,3))\n",
    "a"
   ]
  },
  {
   "cell_type": "markdown",
   "metadata": {},
   "source": [
    "0. \n",
    "\n",
    "```\n",
    "max(\n",
    "    [\n",
    "        [[ 0,  1,  2], [ 3,  4,  5]],\n",
    "        [[ 6,  7,  8], [ 9, 10, 11]],\n",
    "        [[12, 13, 14], [15, 16, 17]],\n",
    "    ]\n",
    ")\n",
    "```\n",
    "\n",
    "1. \n",
    "\n",
    "```\n",
    "[\n",
    "    max( [[ 0,  1,  2], [ 3,  4,  5]] ),\n",
    "    max( [[ 6,  7,  8], [ 9, 10, 11]] ),\n",
    "    max( [[12, 13, 14], [15, 16, 17]] ),\n",
    "]\n",
    "```\n",
    "\n",
    "2. \n",
    "\n",
    "```\n",
    "[\n",
    "    [ max ( [ 0,  1,  2] ), max ( [ 3,  4,  5] ) ],\n",
    "    [ max ( [ 6,  7,  8] ), max ( [ 9, 10, 11] ) ],\n",
    "    [ max ( [12, 13, 14] ), max ( [15, 16, 17] ) ],\n",
    "]\n",
    "```\n",
    "\n",
    "将上面的数组 a 用 3 色框来表示，最外层绿色，然后是蓝色，最内层红色。\n",
    "\n",
    "当 axis=0 时，就意味着将三个绿框的数据聚合在一起，结果是一个 (2,3) 的数组，数组内容为：\n",
    "\n",
    "```python\n",
    "[ [(max(a000​,a100​,a200​),max(a001​,a101​,a201​),max(a002​,a102​,a202​))],\n",
    "  [(max(a010​,a110​,a210​),max(a011​,a111​,a211​),max(a012​,a112​,a212​))] ]​\n",
    "```"
   ]
  },
  {
   "cell_type": "code",
   "execution_count": 9,
   "metadata": {},
   "outputs": [
    {
     "data": {
      "text/plain": [
       "array([[12, 13, 14],\n",
       "       [15, 16, 17]])"
      ]
     },
     "execution_count": 9,
     "metadata": {},
     "output_type": "execute_result"
    }
   ],
   "source": [
    "np.max(a, axis=0)"
   ]
  },
  {
   "cell_type": "markdown",
   "metadata": {},
   "source": [
    "当 axis=1 时，就意味着每个绿框内的蓝框聚合在一起，结果是一个（3，3）的数组，数组内容为：\n",
    "\n",
    "```python\n",
    "[ [(max(a000​,a010​),max(a001​,a011​),max(a002​,a012​))],\n",
    "  [(max(a100​,a110​),max(a101​,a111​),max(a102​,a112​))],\n",
    "  [(max(a200​,a210​),max(a201​,a211​),max(a202​,a212​))], ]​\n",
    "```"
   ]
  },
  {
   "cell_type": "code",
   "execution_count": 10,
   "metadata": {},
   "outputs": [
    {
     "data": {
      "text/plain": [
       "array([[ 3,  4,  5],\n",
       "       [ 9, 10, 11],\n",
       "       [15, 16, 17]])"
      ]
     },
     "execution_count": 10,
     "metadata": {},
     "output_type": "execute_result"
    }
   ],
   "source": [
    "np.max(a, axis=1)"
   ]
  },
  {
   "cell_type": "markdown",
   "metadata": {},
   "source": [
    "当 axis=2 时，就意味着每个蓝框中的红框聚合在一起，结果是一个（3，2）的数组，数组内容如下所示：\n",
    "\n",
    "```python\n",
    "[ [(max(a000​,a001​,a002​),max(a010​,a011​,a012​))],\n",
    "  [(max(a100​,a101​,a102​),max(a110​,a111​,a112​))],\n",
    "  [(max(a200​,a201​,a202​),max(a210​,a211​,a212​))], ]​\n",
    "```"
   ]
  },
  {
   "cell_type": "code",
   "execution_count": 11,
   "metadata": {},
   "outputs": [
    {
     "data": {
      "text/plain": [
       "array([[ 2,  5],\n",
       "       [ 8, 11],\n",
       "       [14, 17]])"
      ]
     },
     "execution_count": 11,
     "metadata": {},
     "output_type": "execute_result"
    }
   ],
   "source": [
    "np.max(a, axis=2)"
   ]
  },
  {
   "cell_type": "markdown",
   "metadata": {},
   "source": [
    "## 深度学习常用操作\n",
    "\n",
    "### 以图片读取为例\n",
    "\n",
    "图片的格式是 RGB 格式，有 R、G、B 三个通道。\n",
    "Pillow 读入后通道的顺序就是 R、G、B，而 OpenCV 读入后顺序是 B、G、R。\n",
    "\n",
    "从 Pillow 读取"
   ]
  },
  {
   "cell_type": "code",
   "execution_count": 12,
   "metadata": {},
   "outputs": [
    {
     "name": "stdout",
     "output_type": "stream",
     "text": [
      "size: (318, 116)\n",
      "<class 'numpy.ndarray'>\n"
     ]
    },
    {
     "data": {
      "text/plain": [
       "(116, 318, 3)"
      ]
     },
     "execution_count": 12,
     "metadata": {},
     "output_type": "execute_result"
    }
   ],
   "source": [
    "from PIL import Image\n",
    "\n",
    "im = Image.open('../res/images/geektime.webp')\n",
    "print('size:', im.size)\n",
    "\n",
    "im_pillow = np.asarray(im)\n",
    "print(type(im_pillow))\n",
    "im_pillow.shape"
   ]
  },
  {
   "cell_type": "markdown",
   "metadata": {},
   "source": [
    "从 OpenCV 读取"
   ]
  },
  {
   "cell_type": "code",
   "execution_count": 13,
   "metadata": {},
   "outputs": [
    {
     "name": "stdout",
     "output_type": "stream",
     "text": [
      "<class 'NoneType'>\n",
      "im_cv2 is None\n"
     ]
    }
   ],
   "source": [
    "import cv2\n",
    "\n",
    "\n",
    "im_cv2 = cv2.imread('../res/images/geektime.webp')\n",
    "print(type(im_cv2))\n",
    "\n",
    "if im_cv2 is None:\n",
    "    print('im_cv2 is None')\n",
    "else:\n",
    "    print(im_cv2.shape)\n",
    "    # cv2.imshow(\"dog\", im_cv2)\n",
    "    # cv2.waitKey(0)\n",
    "    # cv2.destroyAllWindows()"
   ]
  },
  {
   "cell_type": "code",
   "execution_count": 14,
   "metadata": {},
   "outputs": [
    {
     "name": "stdout",
     "output_type": "stream",
     "text": [
      "\n",
      "General configuration for OpenCV 4.6.0 =====================================\n",
      "  Version control:               unknown\n",
      "\n",
      "  Extra modules:\n",
      "    Location (extra):            /private/var/folders/nz/j6p8yfhx1mv_0grj5xl4650h0000gp/T/abs_562_cazh1h/croots/recipe/opencv-suite_1664548333142/work/opencv_contrib-4.6.0/modules\n",
      "    Version control (extra):     unknown\n",
      "\n",
      "  Platform:\n",
      "    Timestamp:                   2022-09-30T14:42:48Z\n",
      "    Host:                        Darwin 20.6.0 arm64\n",
      "    CMake:                       3.22.1\n",
      "    CMake generator:             Ninja\n",
      "    CMake build tool:            /var/folders/nz/j6p8yfhx1mv_0grj5xl4650h0000gp/T/abs_562_cazh1h/croots/recipe/opencv-suite_1664548333142/_build_env/bin/ninja\n",
      "    Configuration:               Release\n",
      "\n",
      "  CPU/HW features:\n",
      "    Baseline:                    NEON FP16\n",
      "\n",
      "  C/C++:\n",
      "    Built as dynamic libs?:      YES\n",
      "    C++ standard:                11\n",
      "    C++ Compiler:                /var/folders/nz/j6p8yfhx1mv_0grj5xl4650h0000gp/T/abs_562_cazh1h/croots/recipe/opencv-suite_1664548333142/_build_env/bin/arm64-apple-darwin20.0.0-clang++  (ver 12.0.0)\n",
      "    C++ flags (Release):         -ftree-vectorize -fPIC -fPIE -fstack-protector-strong -O2 -pipe -stdlib=libc++ -fvisibility-inlines-hidden -std=c++14 -fmessage-length=0 -isystem /var/folders/nz/j6p8yfhx1mv_0grj5xl4650h0000gp/T/abs_562_cazh1h/croots/recipe/opencv-suite_1664548333142/_h_env_placehold_placehold_placehold_placehold_placehold_placehold_placehold_placehold_placehold_placehold_placehold_placehold_placehold_placehold_pla/include -fdebug-prefix-map=/var/folders/nz/j6p8yfhx1mv_0grj5xl4650h0000gp/T/abs_562_cazh1h/croots/recipe/opencv-suite_1664548333142/work=/usr/local/src/conda/opencv-suite-4.6.0 -fdebug-prefix-map=/var/folders/nz/j6p8yfhx1mv_0grj5xl4650h0000gp/T/abs_562_cazh1h/croots/recipe/opencv-suite_1664548333142/_h_env_placehold_placehold_placehold_placehold_placehold_placehold_placehold_placehold_placehold_placehold_placehold_placehold_placehold_placehold_pla=/usr/local/src/conda-prefix -D__STDC_CONSTANT_MACROS   -fsigned-char -W -Wall -Wreturn-type -Wnon-virtual-dtor -Waddress -Wsequence-point -Wformat -Wformat-security -Wmissing-declarations -Wmissing-prototypes -Wstrict-prototypes -Wundef -Winit-self -Wpointer-arith -Wshadow -Wsign-promo -Wuninitialized -Winconsistent-missing-override -Wno-delete-non-virtual-dtor -Wno-unnamed-type-template-args -Wno-comment -Wno-deprecated-enum-enum-conversion -Wno-deprecated-anon-enum-enum-conversion -fdiagnostics-show-option -Qunused-arguments -Wno-semicolon-before-method-body -ffunction-sections -fdata-sections    -O3 -DNDEBUG  -DNDEBUG\n",
      "    C++ flags (Debug):           -ftree-vectorize -fPIC -fPIE -fstack-protector-strong -O2 -pipe -stdlib=libc++ -fvisibility-inlines-hidden -std=c++14 -fmessage-length=0 -isystem /var/folders/nz/j6p8yfhx1mv_0grj5xl4650h0000gp/T/abs_562_cazh1h/croots/recipe/opencv-suite_1664548333142/_h_env_placehold_placehold_placehold_placehold_placehold_placehold_placehold_placehold_placehold_placehold_placehold_placehold_placehold_placehold_pla/include -fdebug-prefix-map=/var/folders/nz/j6p8yfhx1mv_0grj5xl4650h0000gp/T/abs_562_cazh1h/croots/recipe/opencv-suite_1664548333142/work=/usr/local/src/conda/opencv-suite-4.6.0 -fdebug-prefix-map=/var/folders/nz/j6p8yfhx1mv_0grj5xl4650h0000gp/T/abs_562_cazh1h/croots/recipe/opencv-suite_1664548333142/_h_env_placehold_placehold_placehold_placehold_placehold_placehold_placehold_placehold_placehold_placehold_placehold_placehold_placehold_placehold_pla=/usr/local/src/conda-prefix -D__STDC_CONSTANT_MACROS   -fsigned-char -W -Wall -Wreturn-type -Wnon-virtual-dtor -Waddress -Wsequence-point -Wformat -Wformat-security -Wmissing-declarations -Wmissing-prototypes -Wstrict-prototypes -Wundef -Winit-self -Wpointer-arith -Wshadow -Wsign-promo -Wuninitialized -Winconsistent-missing-override -Wno-delete-non-virtual-dtor -Wno-unnamed-type-template-args -Wno-comment -Wno-deprecated-enum-enum-conversion -Wno-deprecated-anon-enum-enum-conversion -fdiagnostics-show-option -Qunused-arguments -Wno-semicolon-before-method-body -ffunction-sections -fdata-sections    -g  -DDEBUG -D_DEBUG\n",
      "    C Compiler:                  /var/folders/nz/j6p8yfhx1mv_0grj5xl4650h0000gp/T/abs_562_cazh1h/croots/recipe/opencv-suite_1664548333142/_build_env/bin/arm64-apple-darwin20.0.0-clang\n",
      "    C flags (Release):           -ftree-vectorize -fPIC -fPIE -fstack-protector-strong -O2 -pipe -isystem /var/folders/nz/j6p8yfhx1mv_0grj5xl4650h0000gp/T/abs_562_cazh1h/croots/recipe/opencv-suite_1664548333142/_h_env_placehold_placehold_placehold_placehold_placehold_placehold_placehold_placehold_placehold_placehold_placehold_placehold_placehold_placehold_pla/include -fdebug-prefix-map=/var/folders/nz/j6p8yfhx1mv_0grj5xl4650h0000gp/T/abs_562_cazh1h/croots/recipe/opencv-suite_1664548333142/work=/usr/local/src/conda/opencv-suite-4.6.0 -fdebug-prefix-map=/var/folders/nz/j6p8yfhx1mv_0grj5xl4650h0000gp/T/abs_562_cazh1h/croots/recipe/opencv-suite_1664548333142/_h_env_placehold_placehold_placehold_placehold_placehold_placehold_placehold_placehold_placehold_placehold_placehold_placehold_placehold_placehold_pla=/usr/local/src/conda-prefix   -fsigned-char -W -Wall -Wreturn-type -Wnon-virtual-dtor -Waddress -Wsequence-point -Wformat -Wformat-security -Wmissing-declarations -Wmissing-prototypes -Wstrict-prototypes -Wundef -Winit-self -Wpointer-arith -Wshadow -Wsign-promo -Wuninitialized -Winconsistent-missing-override -Wno-delete-non-virtual-dtor -Wno-unnamed-type-template-args -Wno-comment -Wno-deprecated-enum-enum-conversion -Wno-deprecated-anon-enum-enum-conversion -fdiagnostics-show-option -Qunused-arguments -Wno-semicolon-before-method-body -ffunction-sections -fdata-sections    -O3 -DNDEBUG  -DNDEBUG\n",
      "    C flags (Debug):             -ftree-vectorize -fPIC -fPIE -fstack-protector-strong -O2 -pipe -isystem /var/folders/nz/j6p8yfhx1mv_0grj5xl4650h0000gp/T/abs_562_cazh1h/croots/recipe/opencv-suite_1664548333142/_h_env_placehold_placehold_placehold_placehold_placehold_placehold_placehold_placehold_placehold_placehold_placehold_placehold_placehold_placehold_pla/include -fdebug-prefix-map=/var/folders/nz/j6p8yfhx1mv_0grj5xl4650h0000gp/T/abs_562_cazh1h/croots/recipe/opencv-suite_1664548333142/work=/usr/local/src/conda/opencv-suite-4.6.0 -fdebug-prefix-map=/var/folders/nz/j6p8yfhx1mv_0grj5xl4650h0000gp/T/abs_562_cazh1h/croots/recipe/opencv-suite_1664548333142/_h_env_placehold_placehold_placehold_placehold_placehold_placehold_placehold_placehold_placehold_placehold_placehold_placehold_placehold_placehold_pla=/usr/local/src/conda-prefix   -fsigned-char -W -Wall -Wreturn-type -Wnon-virtual-dtor -Waddress -Wsequence-point -Wformat -Wformat-security -Wmissing-declarations -Wmissing-prototypes -Wstrict-prototypes -Wundef -Winit-self -Wpointer-arith -Wshadow -Wsign-promo -Wuninitialized -Winconsistent-missing-override -Wno-delete-non-virtual-dtor -Wno-unnamed-type-template-args -Wno-comment -Wno-deprecated-enum-enum-conversion -Wno-deprecated-anon-enum-enum-conversion -fdiagnostics-show-option -Qunused-arguments -Wno-semicolon-before-method-body -ffunction-sections -fdata-sections    -g  -DDEBUG -D_DEBUG\n",
      "    Linker flags (Release):      -Wl,-pie -Wl,-headerpad_max_install_names -Wl,-dead_strip_dylibs -Wl,-rpath,/var/folders/nz/j6p8yfhx1mv_0grj5xl4650h0000gp/T/abs_562_cazh1h/croots/recipe/opencv-suite_1664548333142/_h_env_placehold_placehold_placehold_placehold_placehold_placehold_placehold_placehold_placehold_placehold_placehold_placehold_placehold_placehold_pla/lib -L/var/folders/nz/j6p8yfhx1mv_0grj5xl4650h0000gp/T/abs_562_cazh1h/croots/recipe/opencv-suite_1664548333142/_h_env_placehold_placehold_placehold_placehold_placehold_placehold_placehold_placehold_placehold_placehold_placehold_placehold_placehold_placehold_pla/lib  -Wl,-dead_strip  \n",
      "    Linker flags (Debug):        -Wl,-pie -Wl,-headerpad_max_install_names -Wl,-dead_strip_dylibs -Wl,-rpath,/var/folders/nz/j6p8yfhx1mv_0grj5xl4650h0000gp/T/abs_562_cazh1h/croots/recipe/opencv-suite_1664548333142/_h_env_placehold_placehold_placehold_placehold_placehold_placehold_placehold_placehold_placehold_placehold_placehold_placehold_placehold_placehold_pla/lib -L/var/folders/nz/j6p8yfhx1mv_0grj5xl4650h0000gp/T/abs_562_cazh1h/croots/recipe/opencv-suite_1664548333142/_h_env_placehold_placehold_placehold_placehold_placehold_placehold_placehold_placehold_placehold_placehold_placehold_placehold_placehold_placehold_pla/lib  -Wl,-dead_strip  \n",
      "    ccache:                      NO\n",
      "    Precompiled headers:         NO\n",
      "    Extra dependencies:\n",
      "    3rdparty dependencies:\n",
      "\n",
      "  OpenCV modules:\n",
      "    To be built:                 alphamat aruco bgsegm bioinspired calib3d ccalib core cvv datasets dpm face features2d flann freetype fuzzy gapi hdf hfs highgui img_hash imgcodecs imgproc intensity_transform line_descriptor ml objdetect optflow phase_unwrapping photo plot python3 quality rapid reg rgbd saliency shape stereo stitching structured_light superres surface_matching tracking video videoio videostab xfeatures2d ximgproc xobjdetect xphoto\n",
      "    Disabled:                    python2 world\n",
      "    Disabled by dependency:      barcode dnn_objdetect dnn_superres mcc text wechat_qrcode\n",
      "    Unavailable:                 cudaarithm cudabgsegm cudacodec cudafeatures2d cudafilters cudaimgproc cudalegacy cudaobjdetect cudaoptflow cudastereo cudawarping cudev dnn java julia matlab ovis sfm ts viz\n",
      "    Applications:                -\n",
      "    Documentation:               NO\n",
      "    Non-free algorithms:         NO\n",
      "\n",
      "  GUI:                           QT5\n",
      "    QT:                          YES (ver 5.15.2 )\n",
      "      QT OpenGL support:         NO\n",
      "    Cocoa:                       YES\n",
      "\n",
      "  Media I/O: \n",
      "    ZLib:                        /var/folders/nz/j6p8yfhx1mv_0grj5xl4650h0000gp/T/abs_562_cazh1h/croots/recipe/opencv-suite_1664548333142/_h_env_placehold_placehold_placehold_placehold_placehold_placehold_placehold_placehold_placehold_placehold_placehold_placehold_placehold_placehold_pla/lib/libz.dylib (ver 1.2.12)\n",
      "    JPEG:                        /var/folders/nz/j6p8yfhx1mv_0grj5xl4650h0000gp/T/abs_562_cazh1h/croots/recipe/opencv-suite_1664548333142/_h_env_placehold_placehold_placehold_placehold_placehold_placehold_placehold_placehold_placehold_placehold_placehold_placehold_placehold_placehold_pla/lib/libjpeg.dylib (ver 90)\n",
      "    PNG:                         /var/folders/nz/j6p8yfhx1mv_0grj5xl4650h0000gp/T/abs_562_cazh1h/croots/recipe/opencv-suite_1664548333142/_h_env_placehold_placehold_placehold_placehold_placehold_placehold_placehold_placehold_placehold_placehold_placehold_placehold_placehold_placehold_pla/lib/libpng.dylib (ver 1.6.37)\n",
      "    TIFF:                        /var/folders/nz/j6p8yfhx1mv_0grj5xl4650h0000gp/T/abs_562_cazh1h/croots/recipe/opencv-suite_1664548333142/_h_env_placehold_placehold_placehold_placehold_placehold_placehold_placehold_placehold_placehold_placehold_placehold_placehold_placehold_placehold_pla/lib/libtiff.dylib (ver 42 / 4.2.0)\n",
      "    OpenEXR:                     build (ver 2.3.0)\n",
      "    HDR:                         YES\n",
      "    SUNRASTER:                   YES\n",
      "    PXM:                         YES\n",
      "    PFM:                         YES\n",
      "\n",
      "  Video I/O:\n",
      "    GStreamer:                   YES (1.14.1)\n",
      "    AVFoundation:                YES\n",
      "\n",
      "  Parallel framework:            GCD\n",
      "\n",
      "  Trace:                         YES (built-in)\n",
      "\n",
      "  Other third-party libraries:\n",
      "    Eigen:                       YES (ver 3.3.7)\n",
      "    Custom HAL:                  YES (carotene (ver 0.0.1))\n",
      "\n",
      "  Python 3:\n",
      "    Interpreter:                 /var/folders/nz/j6p8yfhx1mv_0grj5xl4650h0000gp/T/abs_562_cazh1h/croots/recipe/opencv-suite_1664548333142/_h_env_placehold_placehold_placehold_placehold_placehold_placehold_placehold_placehold_placehold_placehold_placehold_placehold_placehold_placehold_pla/bin/python3 (ver 3.10.4)\n",
      "    Libraries:                   /var/folders/nz/j6p8yfhx1mv_0grj5xl4650h0000gp/T/abs_562_cazh1h/croots/recipe/opencv-suite_1664548333142/_h_env_placehold_placehold_placehold_placehold_placehold_placehold_placehold_placehold_placehold_placehold_placehold_placehold_placehold_placehold_pla/lib/libpython3.10.dylib (ver 3.10.4)\n",
      "    numpy:                       /var/folders/nz/j6p8yfhx1mv_0grj5xl4650h0000gp/T/abs_562_cazh1h/croots/recipe/opencv-suite_1664548333142/_h_env_placehold_placehold_placehold_placehold_placehold_placehold_placehold_placehold_placehold_placehold_placehold_placehold_placehold_placehold_pla/lib/python3.10/site-packages/numpy/core/include (ver 1.21.5)\n",
      "    install path:                lib/python3.10/site-packages/cv2/python-3.10\n",
      "\n",
      "  Python (for build):            /var/folders/nz/j6p8yfhx1mv_0grj5xl4650h0000gp/T/abs_562_cazh1h/croots/recipe/opencv-suite_1664548333142/_h_env_placehold_placehold_placehold_placehold_placehold_placehold_placehold_placehold_placehold_placehold_placehold_placehold_placehold_placehold_pla/bin/python\n",
      "\n",
      "  Java:                          \n",
      "    ant:                         NO\n",
      "    JNI:                         NO\n",
      "    Java wrappers:               NO\n",
      "    Java tests:                  NO\n",
      "\n",
      "  Install to:                    /var/folders/nz/j6p8yfhx1mv_0grj5xl4650h0000gp/T/abs_562_cazh1h/croots/recipe/opencv-suite_1664548333142/_h_env_placehold_placehold_placehold_placehold_placehold_placehold_placehold_placehold_placehold_placehold_placehold_placehold_placehold_placehold_pla\n",
      "-----------------------------------------------------------------\n",
      "\n",
      "\n"
     ]
    }
   ],
   "source": [
    "print(cv2.getBuildInformation())"
   ]
  },
  {
   "cell_type": "markdown",
   "metadata": {},
   "source": [
    "使用 索引和切片 提取出图片的 RGB 三个通道的数据"
   ]
  },
  {
   "cell_type": "code",
   "execution_count": 15,
   "metadata": {},
   "outputs": [],
   "source": [
    "im_pillow_c1 = im_pillow[:, :, 0]\n",
    "im_pillow_c2 = im_pillow[:, :, 1]\n",
    "im_pillow_c3 = im_pillow[:, :, 2]"
   ]
  },
  {
   "cell_type": "code",
   "execution_count": 16,
   "metadata": {},
   "outputs": [
    {
     "data": {
      "text/plain": [
       "array([[255, 255, 255, ..., 255, 255, 255],\n",
       "       [255, 255, 255, ..., 255, 255, 255],\n",
       "       [255, 255, 255, ..., 255, 255, 255],\n",
       "       ...,\n",
       "       [255, 255, 255, ..., 255, 255, 255],\n",
       "       [255, 255, 255, ..., 255, 255, 255],\n",
       "       [255, 255, 255, ..., 255, 255, 255]], dtype=uint8)"
      ]
     },
     "execution_count": 16,
     "metadata": {},
     "output_type": "execute_result"
    }
   ],
   "source": [
    "im_pillow_c3"
   ]
  },
  {
   "cell_type": "code",
   "execution_count": 17,
   "metadata": {},
   "outputs": [
    {
     "data": {
      "text/plain": [
       "(116, 318, 1)"
      ]
     },
     "execution_count": 17,
     "metadata": {},
     "output_type": "execute_result"
    }
   ],
   "source": [
    "zeros = np.zeros((im_pillow.shape[0], im_pillow.shape[1], 1))\n",
    "zeros.shape"
   ]
  },
  {
   "cell_type": "markdown",
   "metadata": {},
   "source": [
    "数组的拼接\n",
    "\n",
    "使用 np.concatenate"
   ]
  },
  {
   "cell_type": "code",
   "execution_count": 18,
   "metadata": {},
   "outputs": [
    {
     "name": "stdout",
     "output_type": "stream",
     "text": [
      "(116, 318)\n",
      "(116, 318, 1)\n"
     ]
    },
    {
     "data": {
      "text/plain": [
       "(116, 318, 1)"
      ]
     },
     "execution_count": 18,
     "metadata": {},
     "output_type": "execute_result"
    }
   ],
   "source": [
    "print(im_pillow_c1.shape)\n",
    "print(zeros.shape)\n",
    "\n",
    "# 不同维度，需要增加 im_pillow_c1 的维度\n",
    "im_pillow_c1 = im_pillow_c1[:,:, np.newaxis]\n",
    "im_pillow_c1.shape"
   ]
  },
  {
   "cell_type": "code",
   "execution_count": 19,
   "metadata": {},
   "outputs": [
    {
     "data": {
      "text/plain": [
       "(116, 318, 3)"
      ]
     },
     "execution_count": 19,
     "metadata": {},
     "output_type": "execute_result"
    }
   ],
   "source": [
    "im_pillow_c1_3ch = np.concatenate((im_pillow_c1, zeros, zeros), axis=2)\n",
    "im_pillow_c1_3ch.shape"
   ]
  },
  {
   "cell_type": "markdown",
   "metadata": {},
   "source": [
    "直接赋值"
   ]
  },
  {
   "cell_type": "code",
   "execution_count": 20,
   "metadata": {},
   "outputs": [
    {
     "data": {
      "text/plain": [
       "(116, 318, 3)"
      ]
     },
     "execution_count": 20,
     "metadata": {},
     "output_type": "execute_result"
    }
   ],
   "source": [
    "im_pillow_c2_3ch = np.zeros(im_pillow.shape)\n",
    "im_pillow_c2_3ch[:,:,1] = im_pillow_c2\n",
    "im_pillow_c2_3ch.shape"
   ]
  },
  {
   "cell_type": "code",
   "execution_count": 21,
   "metadata": {},
   "outputs": [
    {
     "data": {
      "text/plain": [
       "(116, 318, 3)"
      ]
     },
     "execution_count": 21,
     "metadata": {},
     "output_type": "execute_result"
    }
   ],
   "source": [
    "im_pillow_c3_3ch = np.zeros(im_pillow.shape)\n",
    "im_pillow_c3_3ch[:,:,2] = im_pillow_c3\n",
    "im_pillow_c3_3ch.shape"
   ]
  },
  {
   "cell_type": "markdown",
   "metadata": {},
   "source": [
    "现在可以将三个通道的 RGB 图片打印出来验证通道顺序。\n",
    "\n",
    "预期的输出顺序应该是：原图、R 通道、G 通道与 B 通道。"
   ]
  },
  {
   "cell_type": "code",
   "execution_count": 22,
   "metadata": {},
   "outputs": [
    {
     "data": {
      "image/png": "[encoded data removed]",
      "text/plain": [
       "<Figure size 640x480 with 4 Axes>"
      ]
     },
     "metadata": {},
     "output_type": "display_data"
    }
   ],
   "source": [
    "def plot_channel(orign, r, g, b):\n",
    "    plt.subplot(2,2,1)\n",
    "    plt.axis('off')\n",
    "    plt.title('Origin Image')\n",
    "    plt.imshow(orign)\n",
    "\n",
    "    plt.subplot(2,2,2)\n",
    "    plt.axis('off')\n",
    "    plt.title('Red Channel')\n",
    "    plt.imshow(r.astype(np.uint8))\n",
    "\n",
    "    plt.subplot(2,2,3)\n",
    "    plt.axis('off')\n",
    "    plt.title('Green Channel')\n",
    "    plt.imshow(g.astype(np.uint8))\n",
    "\n",
    "    plt.subplot(2,2,4)\n",
    "    plt.axis('off')\n",
    "    plt.title('Blue Channel')\n",
    "    plt.imshow(b.astype(np.uint8))\n",
    "\n",
    "plot_channel(im_pillow, im_pillow_c1_3ch, im_pillow_c2_3ch, im_pillow_c3_3ch)\n"
   ]
  },
  {
   "cell_type": "markdown",
   "metadata": {},
   "source": [
    "更加简单的获取三个通道的 BGR 数据的方式：只需要将图片读入后，直接将其中的两个通道赋值为 0 即可"
   ]
  },
  {
   "cell_type": "code",
   "execution_count": 23,
   "metadata": {},
   "outputs": [
    {
     "data": {
      "image/png": "[encoded data removed]",
      "text/plain": [
       "<Figure size 640x480 with 4 Axes>"
      ]
     },
     "metadata": {},
     "output_type": "display_data"
    }
   ],
   "source": [
    "# im_pillow2 = np.asarray(im) # Error，因为 asarray 是浅拷贝\n",
    "\n",
    "# 保留 R 通道\n",
    "im_pillow_r = np.array(im)\n",
    "im_pillow_r.shape\n",
    "# im_pillow_r[:,:,1]=0\n",
    "# im_pillow_r[:,:,2]=0\n",
    "# 简写\n",
    "im_pillow_r[:,:,1:]=0\n",
    "\n",
    "# 保留 G 通道\n",
    "im_pillow_g = np.array(im)\n",
    "im_pillow_g[:,:,0]=0\n",
    "im_pillow_g[:,:,2]=0\n",
    "\n",
    "# 保留 B 通道\n",
    "im_pillow_b = im_pillow.copy()\n",
    "# im_pillow2[:,:,0]=0\n",
    "# im_pillow2[:,:,1]=0\n",
    "# 简写\n",
    "im_pillow_b[:,:,0:2]=0\n",
    "\n",
    "plot_channel(im_pillow, im_pillow_r, im_pillow_g, im_pillow_b)"
   ]
  },
  {
   "cell_type": "markdown",
   "metadata": {},
   "source": [
    "评估模型时常用\n",
    "\n",
    "Argmax 、 Argmin ：求最大 / 最小值对应的索引\n",
    "Argsort：数组排序后返回原数组的索引\n",
    "\n",
    "argsort(a, axis=-1, kind=None) 包括后面这几个关键参数：\n",
    "\n",
    "- a 是要进行排序的原数组；\n",
    "- axis 是要沿着哪一个轴进行排序，默认是 -1，也就是最后一个轴；\n",
    "- kind 是采用什么算法进行排序，默认是快速排序，还有其他排序算法，可以参考文档。"
   ]
  },
  {
   "cell_type": "code",
   "execution_count": 24,
   "metadata": {},
   "outputs": [],
   "source": [
    "# 假设下面是模型输出的概率\n",
    "\n",
    "probs = np.array([0.075, 0.15, 0.075, 0.15, 0.0, 0.05, 0.05, 0.2, 0.25])"
   ]
  },
  {
   "cell_type": "code",
   "execution_count": 25,
   "metadata": {},
   "outputs": [
    {
     "name": "stdout",
     "output_type": "stream",
     "text": [
      "[8 7 1 3 0 2 5 6 4]\n",
      "[8 7 1]\n",
      "[0.25 0.2  0.15]\n"
     ]
    }
   ],
   "source": [
    "# 要得到：概率最大的 3 个值的坐标 及 值\n",
    "\n",
    "probs_idx_sorted = np.argsort(-probs)\n",
    "print(probs_idx_sorted)\n",
    "print(probs_idx_sorted[:3])\n",
    "print(probs[probs_idx_sorted[:3]])"
   ]
  },
  {
   "cell_type": "code",
   "execution_count": 26,
   "metadata": {},
   "outputs": [
    {
     "name": "stdout",
     "output_type": "stream",
     "text": [
      "[[0.45775297 0.35783047 0.73274697 0.91351454 0.50654676 0.26450436]\n",
      " [0.79547471 0.10545365 0.31671644 0.13994282 0.84077759 0.32235291]\n",
      " [0.98769793 0.037584   0.4155194  0.76544133 0.05473828 0.18195355]\n",
      " [0.40508983 0.70367681 0.47200023 0.58565738 0.55485655 0.93560406]\n",
      " [0.81924072 0.18837215 0.20280915 0.49245023 0.61723688 0.98811475]\n",
      " [0.16662933 0.7594434  0.22194566 0.14575886 0.65377295 0.71452551]]\n",
      "[[0.54224703 0.64216953 0.26725303 0.08648546 0.49345324 0.73549564]\n",
      " [0.20452529 0.89454635 0.68328356 0.86005718 0.15922241 0.67764709]\n",
      " [0.01230207 0.962416   0.5844806  0.23455867 0.94526172 0.81804645]\n",
      " [0.59491017 0.29632319 0.52799977 0.41434262 0.44514345 0.06439594]\n",
      " [0.18075928 0.81162785 0.79719085 0.50754977 0.38276312 0.01188525]\n",
      " [0.83337067 0.2405566  0.77805434 0.85424114 0.34622705 0.28547449]]\n"
     ]
    }
   ],
   "source": [
    "# 思考：\n",
    "\n",
    "scores = np.random.rand(6, 6, 2)\n",
    "scores[:,:,1] = 1 - scores[:,:,0]\n",
    "\n",
    "# 根据 scores 生产数组 mask，要求 scores 通道 0 的值如果大于通道 1 的值，则 mask 对应的位置为 0，否则为 1。\n",
    "print(scores[:,:,0])\n",
    "print(scores[:,:,1])"
   ]
  },
  {
   "cell_type": "code",
   "execution_count": 27,
   "metadata": {},
   "outputs": [
    {
     "data": {
      "text/plain": [
       "array([[1, 1, 0, 0, 0, 1],\n",
       "       [0, 1, 1, 1, 0, 1],\n",
       "       [0, 1, 1, 0, 1, 1],\n",
       "       [1, 0, 1, 0, 0, 0],\n",
       "       [0, 1, 1, 1, 0, 0],\n",
       "       [1, 0, 1, 1, 0, 0]])"
      ]
     },
     "execution_count": 27,
     "metadata": {},
     "output_type": "execute_result"
    }
   ],
   "source": [
    "# mask = np.zeros(np.shape(scores[:,:, 0]))\n",
    "mask = np.argmax(scores, axis=2)\n",
    "mask"
   ]
  },
  {
   "cell_type": "code",
   "execution_count": 28,
   "metadata": {},
   "outputs": [
    {
     "data": {
      "text/plain": [
       "array([['-', '-', 'o', 'o', 'o', '-'],\n",
       "       ['o', '-', '-', '-', 'o', '-'],\n",
       "       ['o', '-', '-', 'o', '-', '-'],\n",
       "       ['-', 'o', '-', 'o', 'o', 'o'],\n",
       "       ['o', '-', '-', '-', 'o', 'o'],\n",
       "       ['-', 'o', '-', '-', 'o', 'o']], dtype='<U1')"
      ]
     },
     "execution_count": 28,
     "metadata": {},
     "output_type": "execute_result"
    }
   ],
   "source": [
    "def fn(a, b):\n",
    "    return 'o' if a > b else '-'\n",
    "\n",
    "vfn = np.vectorize(fn)\n",
    "mask = vfn(scores[:,:, 0], scores[:,:, 1])\n",
    "mask"
   ]
  },
  {
   "cell_type": "markdown",
   "metadata": {},
   "source": [
    "<hr />"
   ]
  },
  {
   "cell_type": "markdown",
   "metadata": {},
   "source": [
    "np.outer() 矩阵外积，np.inner() 矩阵内积 （和 np.dot() 的用法稍稍有些不同，可以理解成 np.dot(a, b）= np.inner(a, b.T), 把 b 做一次转置）。"
   ]
  },
  {
   "cell_type": "code",
   "execution_count": 29,
   "metadata": {},
   "outputs": [
    {
     "name": "stdout",
     "output_type": "stream",
     "text": [
      "[[1 2]\n",
      " [3 4]]\n",
      "[[5 6]\n",
      " [7 8]]\n"
     ]
    }
   ],
   "source": [
    "a = np.array([\n",
    "    [1, 2],\n",
    "    [3, 4],\n",
    "])\n",
    "b = np.asarray([[5, 6], [7, 8]])\n",
    "\n",
    "print(a)\n",
    "print(b)"
   ]
  },
  {
   "cell_type": "code",
   "execution_count": 30,
   "metadata": {},
   "outputs": [
    {
     "data": {
      "text/plain": [
       "array([[19, 22],\n",
       "       [43, 50]])"
      ]
     },
     "execution_count": 30,
     "metadata": {},
     "output_type": "execute_result"
    }
   ],
   "source": [
    "np.dot(a,b )\n",
    "# == \n",
    "a.dot(b)"
   ]
  },
  {
   "cell_type": "code",
   "execution_count": 31,
   "metadata": {},
   "outputs": [],
   "source": [
    "bt = b.T"
   ]
  },
  {
   "cell_type": "code",
   "execution_count": 32,
   "metadata": {},
   "outputs": [
    {
     "data": {
      "text/plain": [
       "array([[ True,  True],\n",
       "       [ True,  True]])"
      ]
     },
     "execution_count": 32,
     "metadata": {},
     "output_type": "execute_result"
    }
   ],
   "source": [
    "z1 = np.inner(a, bt) \n",
    "z2 = np.dot(a, b)\n",
    "\n",
    "z1 == z2"
   ]
  },
  {
   "cell_type": "code",
   "execution_count": 33,
   "metadata": {},
   "outputs": [
    {
     "data": {
      "text/plain": [
       "183"
      ]
     },
     "execution_count": 33,
     "metadata": {},
     "output_type": "execute_result"
    }
   ],
   "source": [
    "h = np.array([150, 166, 183, 170])\n",
    "h.max()"
   ]
  },
  {
   "cell_type": "code",
   "execution_count": 34,
   "metadata": {},
   "outputs": [
    {
     "data": {
      "text/plain": [
       "array([0, 1, 3, 2])"
      ]
     },
     "execution_count": 34,
     "metadata": {},
     "output_type": "execute_result"
    }
   ],
   "source": [
    "h.argsort()"
   ]
  },
  {
   "cell_type": "code",
   "execution_count": 35,
   "metadata": {},
   "outputs": [
    {
     "data": {
      "text/plain": [
       "11.776565713313877"
      ]
     },
     "execution_count": 35,
     "metadata": {},
     "output_type": "execute_result"
    }
   ],
   "source": [
    "np.mean(h)\n",
    "np.median(h)\n",
    "np.std(h)"
   ]
  },
  {
   "cell_type": "code",
   "execution_count": 36,
   "metadata": {},
   "outputs": [
    {
     "data": {
      "text/plain": [
       "24"
      ]
     },
     "execution_count": 36,
     "metadata": {},
     "output_type": "execute_result"
    }
   ],
   "source": [
    "n = np.array([1,2,3,4])\n",
    "n.prod() # 累乘 n!"
   ]
  },
  {
   "cell_type": "code",
   "execution_count": 37,
   "metadata": {},
   "outputs": [
    {
     "data": {
      "text/plain": [
       "4"
      ]
     },
     "execution_count": 37,
     "metadata": {},
     "output_type": "execute_result"
    }
   ],
   "source": [
    "np.nonzero(n)\n",
    "np.count_nonzero(n)"
   ]
  },
  {
   "cell_type": "markdown",
   "metadata": {},
   "source": [
    "自由的取值截取空间可以用 np.clip() 来做上下界限的值截取。"
   ]
  },
  {
   "cell_type": "code",
   "execution_count": 38,
   "metadata": {},
   "outputs": [
    {
     "data": {
      "text/plain": [
       "array([160, 166, 168, 168])"
      ]
     },
     "execution_count": 38,
     "metadata": {},
     "output_type": "execute_result"
    }
   ],
   "source": [
    "h.clip(160, 168)"
   ]
  },
  {
   "cell_type": "code",
   "execution_count": 39,
   "metadata": {},
   "outputs": [
    {
     "data": {
      "text/plain": [
       "array([[1, 2, 3, 4, 5, 6]])"
      ]
     },
     "execution_count": 39,
     "metadata": {},
     "output_type": "execute_result"
    }
   ],
   "source": [
    "a = np.array([1,2,3,4,5,6])\n",
    "amat = np.expand_dims(a, axis=0)\n",
    "# ==\n",
    "a_2d = a[np.newaxis, :]\n",
    "a_2d"
   ]
  },
  {
   "cell_type": "code",
   "execution_count": 40,
   "metadata": {},
   "outputs": [
    {
     "data": {
      "text/plain": [
       "array([1, 2, 3, 4, 5, 6])"
      ]
     },
     "execution_count": 40,
     "metadata": {},
     "output_type": "execute_result"
    }
   ],
   "source": [
    "a_2d.squeeze(axis=0)"
   ]
  },
  {
   "cell_type": "code",
   "execution_count": 41,
   "metadata": {},
   "outputs": [
    {
     "data": {
      "text/plain": [
       "array([[[1, 2]],\n",
       "\n",
       "       [[3, 4]],\n",
       "\n",
       "       [[5, 6]]])"
      ]
     },
     "execution_count": 41,
     "metadata": {},
     "output_type": "execute_result"
    }
   ],
   "source": [
    "a.reshape([3,1,2])"
   ]
  },
  {
   "cell_type": "code",
   "execution_count": 42,
   "metadata": {},
   "outputs": [
    {
     "data": {
      "text/plain": [
       "array([[1, 2, 3, 4, 5, 6, 1, 2, 3, 4, 5, 6]])"
      ]
     },
     "execution_count": 42,
     "metadata": {},
     "output_type": "execute_result"
    }
   ],
   "source": [
    "np.column_stack([a, a])\n",
    "# !==\n",
    "np.hstack([a_2d, a_2d])"
   ]
  },
  {
   "cell_type": "code",
   "execution_count": 43,
   "metadata": {},
   "outputs": [
    {
     "data": {
      "text/plain": [
       "array([[1, 2, 3, 4, 5, 6],\n",
       "       [1, 2, 3, 4, 5, 6]])"
      ]
     },
     "execution_count": 43,
     "metadata": {},
     "output_type": "execute_result"
    }
   ],
   "source": [
    "np.row_stack([a, a])\n",
    "np.vstack([a,a])"
   ]
  },
  {
   "cell_type": "code",
   "execution_count": 44,
   "metadata": {},
   "outputs": [
    {
     "name": "stdout",
     "output_type": "stream",
     "text": [
      "[array([[ 1, 11,  2, 22],\n",
      "       [ 3, 33,  4, 44],\n",
      "       [ 5, 55,  6, 66],\n",
      "       [ 7, 77,  8, 88]])]\n"
     ]
    },
    {
     "data": {
      "text/plain": [
       "(1, 4, 4)"
      ]
     },
     "execution_count": 44,
     "metadata": {},
     "output_type": "execute_result"
    }
   ],
   "source": [
    "b = np.array(\n",
    "[[ 1, 11, 2, 22],\n",
    " [ 3, 33, 4, 44],\n",
    " [ 5, 55, 6, 66],\n",
    " [ 7, 77, 8, 88]]\n",
    ")\n",
    "tmp = np.vsplit(b, indices_or_sections=1)\n",
    "print(tmp)\n",
    "np.shape(tmp)"
   ]
  },
  {
   "cell_type": "code",
   "execution_count": 45,
   "metadata": {},
   "outputs": [
    {
     "data": {
      "text/plain": [
       "array([[9, 9, 9],\n",
       "       [9, 9, 9]])"
      ]
     },
     "execution_count": 45,
     "metadata": {},
     "output_type": "execute_result"
    }
   ],
   "source": [
    "# fullfill 9\n",
    "np.full([2,3], 9)"
   ]
  },
  {
   "cell_type": "code",
   "execution_count": 46,
   "metadata": {},
   "outputs": [
    {
     "data": {
      "text/plain": [
       "array([[0, 0, 0, 0],\n",
       "       [0, 0, 0, 0],\n",
       "       [0, 0, 0, 0],\n",
       "       [0, 0, 0, 0]])"
      ]
     },
     "execution_count": 46,
     "metadata": {},
     "output_type": "execute_result"
    }
   ],
   "source": [
    "np.zeros_like(b)"
   ]
  },
  {
   "cell_type": "code",
   "execution_count": 47,
   "metadata": {},
   "outputs": [
    {
     "data": {
      "text/plain": [
       "array([-1. , -0.5,  0. ,  0.5,  1. ])"
      ]
     },
     "execution_count": 47,
     "metadata": {},
     "output_type": "execute_result"
    }
   ],
   "source": [
    "# get 5 numbers between start and end\n",
    "np.linspace(-1, 1, 5 , endpoint=True)"
   ]
  },
  {
   "cell_type": "code",
   "execution_count": 48,
   "metadata": {},
   "outputs": [
    {
     "data": {
      "text/plain": [
       "array([[0., 0., 0.],\n",
       "       [0., 0., 0.],\n",
       "       [0., 0., 0.],\n",
       "       [0., 0., 0.]])"
      ]
     },
     "execution_count": 48,
     "metadata": {},
     "output_type": "execute_result"
    }
   ],
   "source": [
    "# but these numbers are not\n",
    "# can be a placeholder and generated quicker than zeros, ones and full\n",
    "np.empty([4,3])"
   ]
  },
  {
   "cell_type": "code",
   "execution_count": 49,
   "metadata": {},
   "outputs": [
    {
     "data": {
      "text/plain": [
       "array([[0.        , 0.69452768, 1.38905535],\n",
       "       [2.08358303, 2.77811071, 3.47263838]])"
      ]
     },
     "execution_count": 49,
     "metadata": {},
     "output_type": "execute_result"
    }
   ],
   "source": [
    "from random import random\n",
    "\n",
    "np.arange(6).reshape([2, 3]) * random()\n"
   ]
  },
  {
   "cell_type": "code",
   "execution_count": 50,
   "metadata": {},
   "outputs": [
    {
     "data": {
      "text/plain": [
       "array([ 0,  1, -1,  5,  5,  2, -1,  3,  5, -1])"
      ]
     },
     "execution_count": 50,
     "metadata": {},
     "output_type": "execute_result"
    }
   ],
   "source": [
    "from numpy.random import randint\n",
    "\n",
    "# randint(1, 10)\n",
    "\n",
    "# np.random.rand(2, 3)\n",
    "# # ==\n",
    "# np.random.random([2, 3])\n",
    "\n",
    "randint(-3, 6, size=10)"
   ]
  },
  {
   "cell_type": "code",
   "execution_count": 51,
   "metadata": {},
   "outputs": [
    {
     "data": {
      "text/plain": [
       "array([1, 4, 2])"
      ]
     },
     "execution_count": 51,
     "metadata": {},
     "output_type": "execute_result"
    }
   ],
   "source": [
    "# randomly pick up from data arrary\n",
    "\n",
    "choice = np.array([2,3,4,1,7,6,5])\n",
    "# np.random.choice(choice)\n",
    "# np.random.choice(choice, size=3)\n",
    "# np.random.choice(choice, size=3, replace=False)\n",
    "\n",
    "np.random.choice(choice, size=3, replace=False, p=[0.1,0.3,0.1,0.1,0.2,0.1,0.1])"
   ]
  },
  {
   "cell_type": "code",
   "execution_count": 52,
   "metadata": {},
   "outputs": [
    {
     "data": {
      "text/plain": [
       "array([2, 5, 4, 7, 6, 3, 1])"
      ]
     },
     "execution_count": 52,
     "metadata": {},
     "output_type": "execute_result"
    }
   ],
   "source": [
    "# shuffling\n",
    "\n",
    "choice_copy = np.copy(choice)\n",
    "np.random.shuffle(choice_copy)\n",
    "choice_copy"
   ]
  },
  {
   "cell_type": "code",
   "execution_count": 53,
   "metadata": {},
   "outputs": [
    {
     "data": {
      "text/plain": [
       "array([[10, 11],\n",
       "       [ 4,  5],\n",
       "       [ 6,  7],\n",
       "       [ 0,  1],\n",
       "       [ 8,  9],\n",
       "       [ 2,  3]])"
      ]
     },
     "execution_count": 53,
     "metadata": {},
     "output_type": "execute_result"
    }
   ],
   "source": [
    "np.random.permutation(10)\n",
    "\n",
    "data = np.arange(12).reshape(6,2)\n",
    "np.random.permutation(data)"
   ]
  },
  {
   "cell_type": "code",
   "execution_count": 54,
   "metadata": {},
   "outputs": [
    {
     "data": {
      "image/png": "[encoded data removed]",
      "text/plain": [
       "<Figure size 640x480 with 1 Axes>"
      ]
     },
     "metadata": {},
     "output_type": "display_data"
    },
    {
     "data": {
      "text/plain": [
       "array([-0.18423331,  0.48512644,  0.31137591, -0.66745334,  0.72254707,\n",
       "        0.88452035, -0.10652364,  0.51073179,  0.90821348, -0.10032894])"
      ]
     },
     "execution_count": 54,
     "metadata": {},
     "output_type": "execute_result"
    }
   ],
   "source": [
    "# 正态分布\n",
    "data = np.random.normal(1, 0.2, 10)\n",
    "# 均匀分布\n",
    "data = np.random.uniform(-1,1,10)\n",
    "\n",
    "plt.plot(data, '-.')\n",
    "plt.show()\n",
    "data"
   ]
  },
  {
   "cell_type": "code",
   "execution_count": 55,
   "metadata": {},
   "outputs": [
    {
     "name": "stdout",
     "output_type": "stream",
     "text": [
      "[2 3 2]\n",
      "[8 3 9]\n"
     ]
    }
   ],
   "source": [
    "# 伪随机\n",
    "# np.random.seed(1)\n",
    "data1 =np.random.randint(2,10, size=3)\n",
    "data2 =np.random.randint(2,10, size=3)\n",
    "\n",
    "print(data1)\n",
    "print(data2)"
   ]
  },
  {
   "cell_type": "code",
   "execution_count": 56,
   "metadata": {},
   "outputs": [],
   "source": [
    "from statistics import mean\n",
    "import timeit\n",
    "from functools import partial\n",
    "\n",
    "from numpy import percentile\n",
    "        \n",
    "def get_run_time(func, *args):\n",
    "    repeat = 3\n",
    "    number = 200\n",
    "    return percentile(timeit.Timer(partial(func, *args)).repeat(repeat=repeat, number=number), 90) / number\n"
   ]
  },
  {
   "cell_type": "code",
   "execution_count": 57,
   "metadata": {},
   "outputs": [
    {
     "name": "stdout",
     "output_type": "stream",
     "text": [
      "0.000538 - b = 2*b\n",
      "0.000247 - a *= 2\n"
     ]
    }
   ],
   "source": [
    "a = np.random.rand(1000, 1000)\n",
    "b = np.random.rand(1000, 1000)\n",
    "\n",
    "def f1():\n",
    "    global b\n",
    "    # 这会产生新的 b\n",
    "    b = 2*b\n",
    "\n",
    "def f2():\n",
    "    global a\n",
    "    # 这不会产生新的 a\n",
    "    a *= 2    # 和 a[:] *= 2 一样\n",
    "\n",
    "print('%.6f - b = 2*b' % get_run_time(f1))\n",
    "print('%.6f - a *= 2' % get_run_time(f2))\n"
   ]
  },
  {
   "cell_type": "code",
   "execution_count": 58,
   "metadata": {},
   "outputs": [
    {
     "name": "stdout",
     "output_type": "stream",
     "text": [
      "0.000448 - flatten\n",
      "0.000000 - ravel\n"
     ]
    }
   ],
   "source": [
    "# 矩阵展平, 用到 np.flatten() 或者 np.ravel()\n",
    "# 如果用 ravel(), 需要 copy 的时候才会被 copy\n",
    "\n",
    "def f1():\n",
    "    a.flatten()\n",
    "\n",
    "def f2():\n",
    "    b.ravel()\n",
    "\n",
    "print('%.6f - flatten' % get_run_time(f1))\n",
    "print('%.6f - ravel' % get_run_time(f2))"
   ]
  },
  {
   "cell_type": "code",
   "execution_count": 59,
   "metadata": {},
   "outputs": [
    {
     "name": "stdout",
     "output_type": "stream",
     "text": [
      "0.000098 - [indices]\n",
      "0.000050 - take\n"
     ]
    }
   ],
   "source": [
    "# take 替代 fancy indexing\n",
    "a = np.random.rand(1000000, 10)\n",
    "indices = np.random.randint(0, len(a), size=10000)\n",
    "\n",
    "def f1():\n",
    "    # fancy indexing\n",
    "    _ = a[indices]\n",
    "\n",
    "def f2():\n",
    "    # take\n",
    "    _ = np.take(a, indices, axis=0)\n",
    "\n",
    "print('%.6f - [indices]' % get_run_time(f1))\n",
    "print('%.6f - take' % get_run_time(f2)) "
   ]
  },
  {
   "cell_type": "code",
   "execution_count": 60,
   "metadata": {},
   "outputs": [
    {
     "name": "stdout",
     "output_type": "stream",
     "text": [
      "0.000078 - [mask]\n",
      "0.000025 - compress\n"
     ]
    }
   ],
   "source": [
    "a = np.random.rand(10000, 10)\n",
    "mask = a[:, 0] < 0.5\n",
    "\n",
    "def f1():\n",
    "    _ = a[mask]\n",
    "\n",
    "def f2():\n",
    "    _ = np.compress(mask, a, axis=0)\n",
    "        \n",
    "\n",
    "print('%.6f - [mask]' % get_run_time(f1))\n",
    "print('%.6f - compress' % get_run_time(f2))"
   ]
  },
  {
   "cell_type": "code",
   "execution_count": 61,
   "metadata": {},
   "outputs": [
    {
     "name": "stdout",
     "output_type": "stream",
     "text": [
      "0.000892 - without out\n",
      "0.000262 - out\n",
      "0.000699 - new data\n"
     ]
    }
   ],
   "source": [
    "# out 参数\n",
    "a = np.zeros([1000, 1000])\n",
    "b = np.zeros_like(a)\n",
    "c = np.zeros_like(a)\n",
    "\n",
    "def f1():\n",
    "    a[:] = np.add(a, 1)  # 把计算结果赋值回原数据\n",
    "\n",
    "def f2():\n",
    "    np.add(b, 1, out=b)  # 把计算结果赋值回原数据\n",
    "\n",
    "def f3():\n",
    "    _c = np.add(c, 1)   # 把计算结果赋值到新数据\n",
    "\n",
    "\n",
    "print('%.6f - without out' % get_run_time(f1))     \n",
    "print('%.6f - out' % get_run_time(f2))\n",
    "print('%.6f - new data' % get_run_time(f3))\n"
   ]
  },
  {
   "cell_type": "code",
   "execution_count": 62,
   "metadata": {},
   "outputs": [
    {
     "name": "stdout",
     "output_type": "stream",
     "text": [
      "(10000, 10)\n",
      "(10000,)\n"
     ]
    }
   ],
   "source": [
    "a = np.random.rand(10000, 10)\n",
    "mask = a[:, 0] < 0.5\n",
    "print(a.shape)\n",
    "print(mask.shape)"
   ]
  },
  {
   "cell_type": "code",
   "execution_count": 63,
   "metadata": {},
   "outputs": [
    {
     "name": "stdout",
     "output_type": "stream",
     "text": [
      "data shape: (4, 3)\n",
      "weights shape: (3, 2)\n",
      "output shape: (4, 2)\n"
     ]
    },
    {
     "data": {
      "text/plain": [
       "array([[1.4589706 , 1.50456571],\n",
       "       [0.39032669, 0.59810076],\n",
       "       [0.54281264, 1.25575684],\n",
       "       [0.6891954 , 0.49369713]])"
      ]
     },
     "execution_count": 63,
     "metadata": {},
     "output_type": "execute_result"
    }
   ],
   "source": [
    "data = np.random.rand(4, 3)\n",
    "weights = np.random.rand(3, 2)\n",
    "output = np.dot(data, weights)\n",
    "\n",
    "print(\"data shape:\", data.shape)\n",
    "print(\"weights shape:\", weights.shape)\n",
    "print(\"output shape:\", output.shape)\n",
    "output"
   ]
  },
  {
   "cell_type": "code",
   "execution_count": 64,
   "metadata": {},
   "outputs": [],
   "source": [
    "def draw_scatter(x, y):\n",
    "    plt.scatter(x.ravel(), y.ravel())\n",
    "    plt.show()"
   ]
  },
  {
   "cell_type": "code",
   "execution_count": 65,
   "metadata": {},
   "outputs": [
    {
     "data": {
      "image/png": "[encoded data removed]",
      "text/plain": [
       "<Figure size 640x480 with 1 Axes>"
      ]
     },
     "metadata": {},
     "output_type": "display_data"
    }
   ],
   "source": [
    "x = np.linspace(-1, 1, 10)[:, None]     # shape [10, 1]\n",
    "y = np.random.normal(loc=0, scale=0.2, size=[10, 1]) + x   # shape [10, 1]\n",
    "\n",
    "draw_scatter(x, y)"
   ]
  }
 ],
 "metadata": {
  "kernelspec": {
   "display_name": "finlab",
   "language": "python",
   "name": "python3"
  },
  "language_info": {
   "codemirror_mode": {
    "name": "ipython",
    "version": 3
   },
   "file_extension": ".py",
   "mimetype": "text/x-python",
   "name": "python",
   "nbconvert_exporter": "python",
   "pygments_lexer": "ipython3",
   "version": "3.10.9"
  },
  "orig_nbformat": 4,
  "vscode": {
   "interpreter": {
    "hash": "a6a8a7b716027eee36c56b5fc1c384e912ecb7d865b1afc229f55132435bf4d1"
   }
  }
 },
 "nbformat": 4,
 "nbformat_minor": 2
}
