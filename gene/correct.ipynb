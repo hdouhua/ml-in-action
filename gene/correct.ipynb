{
 "cells": [
  {
   "cell_type": "code",
   "execution_count": null,
   "metadata": {},
   "outputs": [],
   "source": [
    "import os\n",
    "from pathlib import Path"
   ]
  },
  {
   "cell_type": "code",
   "execution_count": null,
   "metadata": {},
   "outputs": [],
   "source": [
    "mapping = [\n",
    "    [\"威謝\",\"感谢\"],\n",
    "    [\"威谢\",\"感谢\"],\n",
    "    [\"威激\",\"感激\"],\n",
    "    [\"威恩\",\"感恩\"],\n",
    "    [\"威到\",\"感到\"],\n",
    "    [\"威覺\",\"感觉\"],\n",
    "    [\"威觉\",\"感觉\"],\n",
    "    [\"威受\",\"感受\"],\n",
    "    [\"戚謝\",\"感谢\"],\n",
    "    [\"戚谢\",\"感谢\"],\n",
    "    [\"戚激\",\"感激\"],\n",
    "    [\"戚恩\",\"感恩\"],\n",
    "    [\"戚到\",\"感到\"],\n",
    "    [\"戚覺\",\"感觉\"],\n",
    "    [\"戚觉\",\"感觉\"],\n",
    "    [\"戚受\",\"感受\"],\n",
    "    [\"呜谢\",\"鸣谢\"],\n",
    "    [\"时问\",\"时间\"],\n",
    "    [\"開敔\",\"开启\"],\n",
    "    [\"开敔\",\"开启\"],\n",
    "    [\"敔動\",\"启动\"],\n",
    "    [\"敔动\",\"启动\"],\n",
    "]\n",
    "\n",
    "# for it in mapping:\n",
    "#     print(f\"{it[0]} : {it[1]}\")"
   ]
  },
  {
   "cell_type": "code",
   "execution_count": null,
   "metadata": {},
   "outputs": [],
   "source": [
    "def replace(content, mapping):\n",
    "    for it in mapping:\n",
    "        content = content.replace(it[0], it[1])\n",
    "    return content"
   ]
  },
  {
   "cell_type": "code",
   "execution_count": null,
   "metadata": {},
   "outputs": [],
   "source": [
    "p = Path('./content/')\n",
    "files = [f.as_posix() for f in p.glob('**/*.md')]\n",
    "\n",
    "for f in files:\n",
    "    content = None\n",
    "\n",
    "    with open(f, \"r\") as input_file:\n",
    "        content = input_file.read()\n",
    "\n",
    "    content = replace(content, mapping)\n",
    "\n",
    "    if content is not None:\n",
    "        with open(f, \"w\") as input_file:\n",
    "            input_file.write(content)\n"
   ]
  }
 ],
 "metadata": {
  "kernelspec": {
   "display_name": "Python 3.9.12 ('base')",
   "language": "python",
   "name": "python3"
  },
  "language_info": {
   "codemirror_mode": {
    "name": "ipython",
    "version": 3
   },
   "file_extension": ".py",
   "mimetype": "text/x-python",
   "name": "python",
   "nbconvert_exporter": "python",
   "pygments_lexer": "ipython3",
   "version": "3.9.12"
  },
  "orig_nbformat": 4,
  "vscode": {
   "interpreter": {
    "hash": "c0a4e38f63bf4a03ec6a3cf2705553127cd8b3b99ebb7a2d6436861b11eb0b7c"
   }
  }
 },
 "nbformat": 4,
 "nbformat_minor": 2
}
