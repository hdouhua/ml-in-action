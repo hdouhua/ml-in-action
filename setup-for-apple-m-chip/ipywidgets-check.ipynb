{
 "cells": [
  {
   "cell_type": "code",
   "execution_count": 1,
   "metadata": {},
   "outputs": [
    {
     "data": {
      "application/vnd.jupyter.widget-view+json": {
       "model_id": "1ee82425ca1f4c26944649f9c35d452e",
       "version_major": 2,
       "version_minor": 0
      },
      "text/plain": [
       "HBox(children=(VBox(children=(Box(children=(DatePicker(value=datetime.date(2020, 1, 1), description='Start:'),…"
      ]
     },
     "metadata": {},
     "output_type": "display_data"
    }
   ],
   "source": [
    "import datetime\n",
    "from ipywidgets import DatePicker, IntSlider, Select, Checkbox, Box, VBox, HBox\n",
    "\n",
    "\n",
    "date_pickers = [\n",
    "    DatePicker(\n",
    "        value=datetime.date(2020, 1, 1),\n",
    "        description='Start:',\n",
    "        disabled=False,\n",
    "    ),\n",
    "    DatePicker(\n",
    "        value=datetime.date(2022, 12, 31),\n",
    "        description='End:',\n",
    "        disabled=False,\n",
    "    ),\n",
    "]\n",
    "day_range = [\n",
    "    IntSlider(value=1,\n",
    "                min=1,\n",
    "                max=22,\n",
    "                step=1,\n",
    "                description='t1:',\n",
    "                disabled=False,\n",
    "                continuous_update=False,\n",
    "                orientation='horizontal',\n",
    "                readout=True,\n",
    "                readout_format='d'),\n",
    "    IntSlider(value=5,\n",
    "                min=5,\n",
    "                max=23,\n",
    "                step=1,\n",
    "                description='t2:',\n",
    "                disabled=False,\n",
    "                continuous_update=False,\n",
    "                orientation='horizontal',\n",
    "                readout=True,\n",
    "                readout_format='d'),\n",
    "]\n",
    "\n",
    "\n",
    "symbols = [\n",
    "    Select(options= [\n",
    "        ('中证500', '000905'),\n",
    "        ('中证500ETF', '510500'),\n",
    "        ('基金 - 富国500', '161017'),\n",
    "        ('基金 - 南方500', '160119'),\n",
    "        ('500质量', '930939'),\n",
    "        ('鹏扬中证500质量成长ETF', '560500'),\n",
    "        ('沪港深500', '30455'),\n",
    "        ('500SNLV', '930782'),\n",
    "        ('基金 - 景顺长城中证500行业中性低波', '003318'),\n",
    "        ('500成长估值', '930938'),\n",
    "        ('创成长', '399296'),\n",
    "        ('华夏创成长ETF', '159967'),\n",
    "        ('创业板指', '399006'),\n",
    "        ('深创100', '399088'),\n",
    "        ('中小板指', '399005'),\n",
    "    ],\n",
    "            value='000905',\n",
    "            rows=7,\n",
    "            description='Symbol:',\n",
    "            disabled=False),\n",
    "]\n",
    "\n",
    "\n",
    "box1 = Box(children=date_pickers)\n",
    "box2 = Box(children=day_range)\n",
    "vbox1 = VBox(children=(box1, box2))\n",
    "\n",
    "if symbols is not None:\n",
    "    symbols.append(Checkbox(value=False, description='Fund ?', disabled=False, indent=False))\n",
    "    box3 = Box(children=symbols)\n",
    "else:\n",
    "    box3 = Box()\n",
    "\n",
    "\n",
    "HBox(children=(vbox1, box3))"
   ]
  }
 ],
 "metadata": {
  "kernelspec": {
   "display_name": "Python 3",
   "language": "python",
   "name": "python3"
  },
  "language_info": {
   "codemirror_mode": {
    "name": "ipython",
    "version": 3
   },
   "file_extension": ".py",
   "mimetype": "text/x-python",
   "name": "python",
   "nbconvert_exporter": "python",
   "pygments_lexer": "ipython3",
   "version": "3.10.9"
  },
  "vscode": {
   "interpreter": {
    "hash": "05bf2458f5175a7b81d833d552e3bebd7761c23a7836a1dc0132910241a50739"
   }
  }
 },
 "nbformat": 4,
 "nbformat_minor": 2
}
